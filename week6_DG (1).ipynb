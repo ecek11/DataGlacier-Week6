{
  "nbformat": 4,
  "nbformat_minor": 0,
  "metadata": {
    "colab": {
      "name": "week6-DG.ipynb",
      "provenance": [],
      "collapsed_sections": []
    },
    "kernelspec": {
      "name": "python3",
      "display_name": "Python 3"
    },
    "language_info": {
      "name": "python"
    }
  },
  "cells": [
    {
      "cell_type": "markdown",
      "metadata": {
        "id": "v88Iq6o5D3vz"
      },
      "source": [
        "WEEK6-TASKS\n",
        "\n",
        "\n",
        "\n",
        "\n",
        "\n",
        "Steps of the task,\n",
        "\n",
        "Take any csv/text file of 2+ GB of your choice\n",
        "\n",
        "Read the file ( Present approach of reading the file )\n",
        "\n",
        "Try different methods of file reading eg: Dask, Modin, Ray, pandas and present your findings in term of computational efficiency\n",
        "\n",
        "Perform basic validation on data columns : eg: remove special character , white spaces from the col name\n",
        "\n",
        "As you already know the schema hence create a YAML file and write the column name in YAML file. --define separator of read and write file, column name in YAML\n",
        "\n",
        "Validate number of columns and column name of ingested file with YAML.\n",
        "\n",
        "Write the file in pipe separated text file (|) in gz format.\n",
        "\n",
        "Create a summary of the file: Total number of rows, total number of columns, file size.\n"
      ]
    },
    {
      "cell_type": "code",
      "metadata": {
        "id": "ue4oXKndH4da"
      },
      "source": [
        "import pandas as pd\n",
        "import numpy as np\n",
        "import matplotlib.pyplot as plt\n",
        "from os.path import join\n",
        "import seaborn as sns\n",
        "%matplotlib inline"
      ],
      "execution_count": null,
      "outputs": []
    },
    {
      "cell_type": "code",
      "metadata": {
        "colab": {
          "base_uri": "https://localhost:8080/",
          "height": 872
        },
        "id": "1ZaeC09kEp26",
        "outputId": "2c5515fa-3f73-4dbe-cab9-70be11904229"
      },
      "source": [
        "pip install \"dask[complete]\"    "
      ],
      "execution_count": null,
      "outputs": [
        {
          "output_type": "stream",
          "text": [
            "Requirement already satisfied: dask[complete] in /usr/local/lib/python3.7/dist-packages (2.12.0)\n",
            "Requirement already satisfied: pandas>=0.23.0; extra == \"complete\" in /usr/local/lib/python3.7/dist-packages (from dask[complete]) (1.1.5)\n",
            "Requirement already satisfied: toolz>=0.7.3; extra == \"complete\" in /usr/local/lib/python3.7/dist-packages (from dask[complete]) (0.11.1)\n",
            "Requirement already satisfied: PyYaml; extra == \"complete\" in /usr/local/lib/python3.7/dist-packages (from dask[complete]) (3.13)\n",
            "Requirement already satisfied: bokeh>=1.0.0; extra == \"complete\" in /usr/local/lib/python3.7/dist-packages (from dask[complete]) (2.3.3)\n",
            "Collecting fsspec>=0.6.0; extra == \"complete\"\n",
            "\u001b[?25l  Downloading https://files.pythonhosted.org/packages/40/e1/7111d8afc76ee3171f4f99592cd29bac9d233ae1aa34623011506f955434/fsspec-2021.7.0-py3-none-any.whl (118kB)\n",
            "\u001b[K     |████████████████████████████████| 122kB 8.1MB/s \n",
            "\u001b[?25hCollecting distributed>=2.0; extra == \"complete\"\n",
            "\u001b[?25l  Downloading https://files.pythonhosted.org/packages/31/8b/0d704fdaa170a05797057c4676ceb9f53e139111b9b37f53e90a62c4c770/distributed-2021.7.0-py3-none-any.whl (1.0MB)\n",
            "\u001b[K     |████████████████████████████████| 1.0MB 10.7MB/s \n",
            "\u001b[?25hRequirement already satisfied: cloudpickle>=0.2.1; extra == \"complete\" in /usr/local/lib/python3.7/dist-packages (from dask[complete]) (1.3.0)\n",
            "Requirement already satisfied: numpy>=1.13.0; extra == \"complete\" in /usr/local/lib/python3.7/dist-packages (from dask[complete]) (1.19.5)\n",
            "Collecting partd>=0.3.10; extra == \"complete\"\n",
            "  Downloading https://files.pythonhosted.org/packages/41/94/360258a68b55f47859d72b2d0b2b3cfe0ca4fbbcb81b78812bd00ae86b7c/partd-1.2.0-py3-none-any.whl\n",
            "Requirement already satisfied: python-dateutil>=2.7.3 in /usr/local/lib/python3.7/dist-packages (from pandas>=0.23.0; extra == \"complete\"->dask[complete]) (2.8.1)\n",
            "Requirement already satisfied: pytz>=2017.2 in /usr/local/lib/python3.7/dist-packages (from pandas>=0.23.0; extra == \"complete\"->dask[complete]) (2018.9)\n",
            "Requirement already satisfied: packaging>=16.8 in /usr/local/lib/python3.7/dist-packages (from bokeh>=1.0.0; extra == \"complete\"->dask[complete]) (21.0)\n",
            "Requirement already satisfied: typing-extensions>=3.7.4 in /usr/local/lib/python3.7/dist-packages (from bokeh>=1.0.0; extra == \"complete\"->dask[complete]) (3.7.4.3)\n",
            "Requirement already satisfied: pillow>=7.1.0 in /usr/local/lib/python3.7/dist-packages (from bokeh>=1.0.0; extra == \"complete\"->dask[complete]) (7.1.2)\n",
            "Requirement already satisfied: tornado>=5.1 in /usr/local/lib/python3.7/dist-packages (from bokeh>=1.0.0; extra == \"complete\"->dask[complete]) (5.1.1)\n",
            "Requirement already satisfied: Jinja2>=2.9 in /usr/local/lib/python3.7/dist-packages (from bokeh>=1.0.0; extra == \"complete\"->dask[complete]) (2.11.3)\n",
            "Requirement already satisfied: psutil>=5.0 in /usr/local/lib/python3.7/dist-packages (from distributed>=2.0; extra == \"complete\"->dask[complete]) (5.4.8)\n",
            "Requirement already satisfied: msgpack>=0.6.0 in /usr/local/lib/python3.7/dist-packages (from distributed>=2.0; extra == \"complete\"->dask[complete]) (1.0.2)\n",
            "Requirement already satisfied: zict>=0.1.3 in /usr/local/lib/python3.7/dist-packages (from distributed>=2.0; extra == \"complete\"->dask[complete]) (2.0.0)\n",
            "Requirement already satisfied: setuptools in /usr/local/lib/python3.7/dist-packages (from distributed>=2.0; extra == \"complete\"->dask[complete]) (57.2.0)\n",
            "Requirement already satisfied: tblib>=1.6.0 in /usr/local/lib/python3.7/dist-packages (from distributed>=2.0; extra == \"complete\"->dask[complete]) (1.7.0)\n",
            "Requirement already satisfied: click>=6.6 in /usr/local/lib/python3.7/dist-packages (from distributed>=2.0; extra == \"complete\"->dask[complete]) (7.1.2)\n",
            "Requirement already satisfied: sortedcontainers!=2.0.0,!=2.0.1 in /usr/local/lib/python3.7/dist-packages (from distributed>=2.0; extra == \"complete\"->dask[complete]) (2.4.0)\n",
            "Collecting locket\n",
            "  Downloading https://files.pythonhosted.org/packages/50/b8/e789e45b9b9c2db75e9d9e6ceb022c8d1d7e49b2c085ce8c05600f90a96b/locket-0.2.1-py2.py3-none-any.whl\n",
            "Requirement already satisfied: six>=1.5 in /usr/local/lib/python3.7/dist-packages (from python-dateutil>=2.7.3->pandas>=0.23.0; extra == \"complete\"->dask[complete]) (1.15.0)\n",
            "Requirement already satisfied: pyparsing>=2.0.2 in /usr/local/lib/python3.7/dist-packages (from packaging>=16.8->bokeh>=1.0.0; extra == \"complete\"->dask[complete]) (2.4.7)\n",
            "Requirement already satisfied: MarkupSafe>=0.23 in /usr/local/lib/python3.7/dist-packages (from Jinja2>=2.9->bokeh>=1.0.0; extra == \"complete\"->dask[complete]) (2.0.1)\n",
            "Requirement already satisfied: heapdict in /usr/local/lib/python3.7/dist-packages (from zict>=0.1.3->distributed>=2.0; extra == \"complete\"->dask[complete]) (1.0.1)\n",
            "\u001b[31mERROR: distributed 2021.7.0 has requirement cloudpickle>=1.5.0, but you'll have cloudpickle 1.3.0 which is incompatible.\u001b[0m\n",
            "\u001b[31mERROR: distributed 2021.7.0 has requirement dask==2021.07.0, but you'll have dask 2.12.0 which is incompatible.\u001b[0m\n",
            "Installing collected packages: fsspec, distributed, locket, partd\n",
            "  Found existing installation: distributed 1.25.3\n",
            "    Uninstalling distributed-1.25.3:\n",
            "      Successfully uninstalled distributed-1.25.3\n",
            "Successfully installed distributed-2021.7.0 fsspec-2021.7.0 locket-0.2.1 partd-1.2.0\n"
          ],
          "name": "stdout"
        },
        {
          "output_type": "display_data",
          "data": {
            "application/vnd.colab-display-data+json": {
              "pip_warning": {
                "packages": [
                  "distributed"
                ]
              }
            }
          },
          "metadata": {
            "tags": []
          }
        }
      ]
    },
    {
      "cell_type": "code",
      "metadata": {
        "id": "ZDuHUx-38gdt"
      },
      "source": [
        "import pandas as pd "
      ],
      "execution_count": null,
      "outputs": []
    },
    {
      "cell_type": "markdown",
      "metadata": {
        "id": "BixwFqjO_f9H"
      },
      "source": [
        "Reading With Pandas:"
      ]
    },
    {
      "cell_type": "code",
      "metadata": {
        "colab": {
          "base_uri": "https://localhost:8080/",
          "height": 1000
        },
        "id": "-PwD32Ze9MvZ",
        "outputId": "3eeb0e21-4f1f-4db6-cd9d-33d6e5c79b1d"
      },
      "source": [
        "df = pd.read_csv(\"rock_music_data.csv\") \n",
        "df.head(10)"
      ],
      "execution_count": null,
      "outputs": [
        {
          "output_type": "execute_result",
          "data": {
            "text/html": [
              "<div>\n",
              "<style scoped>\n",
              "    .dataframe tbody tr th:only-of-type {\n",
              "        vertical-align: middle;\n",
              "    }\n",
              "\n",
              "    .dataframe tbody tr th {\n",
              "        vertical-align: top;\n",
              "    }\n",
              "\n",
              "    .dataframe thead th {\n",
              "        text-align: right;\n",
              "    }\n",
              "</style>\n",
              "<table border=\"1\" class=\"dataframe\">\n",
              "  <thead>\n",
              "    <tr style=\"text-align: right;\">\n",
              "      <th></th>\n",
              "      <th>Artist Name</th>\n",
              "      <th>Track Name</th>\n",
              "      <th>Popularity</th>\n",
              "      <th>Genres</th>\n",
              "      <th>Playlist</th>\n",
              "      <th>danceability</th>\n",
              "      <th>energy</th>\n",
              "      <th>key</th>\n",
              "      <th>loudness</th>\n",
              "      <th>mode</th>\n",
              "      <th>speechiness</th>\n",
              "      <th>acousticness</th>\n",
              "      <th>instrumentalness</th>\n",
              "      <th>liveness</th>\n",
              "      <th>valence</th>\n",
              "      <th>tempo</th>\n",
              "      <th>id</th>\n",
              "      <th>uri</th>\n",
              "      <th>track_href</th>\n",
              "      <th>analysis_url</th>\n",
              "      <th>duration_ms</th>\n",
              "      <th>time_signature</th>\n",
              "    </tr>\n",
              "  </thead>\n",
              "  <tbody>\n",
              "    <tr>\n",
              "      <th>0</th>\n",
              "      <td>God Street Wine</td>\n",
              "      <td>Nightingale</td>\n",
              "      <td>5</td>\n",
              "      <td>['jam band']</td>\n",
              "      <td>The Lot</td>\n",
              "      <td>0.732</td>\n",
              "      <td>0.710</td>\n",
              "      <td>10</td>\n",
              "      <td>-10.429</td>\n",
              "      <td>1</td>\n",
              "      <td>0.0473</td>\n",
              "      <td>0.12100</td>\n",
              "      <td>0.005720</td>\n",
              "      <td>0.4570</td>\n",
              "      <td>0.825</td>\n",
              "      <td>123.098</td>\n",
              "      <td>6A9mRe1Eg6jUBaiLu1ppAJ</td>\n",
              "      <td>spotify:track:6A9mRe1Eg6jUBaiLu1ppAJ</td>\n",
              "      <td>https://api.spotify.com/v1/tracks/6A9mRe1Eg6jU...</td>\n",
              "      <td>https://api.spotify.com/v1/audio-analysis/6A9m...</td>\n",
              "      <td>352839</td>\n",
              "      <td>4</td>\n",
              "    </tr>\n",
              "    <tr>\n",
              "      <th>1</th>\n",
              "      <td>cleopatrick</td>\n",
              "      <td>hometown</td>\n",
              "      <td>63</td>\n",
              "      <td>['modern alternative rock', 'modern blues rock...</td>\n",
              "      <td>Ultimate Rock Gaming</td>\n",
              "      <td>0.315</td>\n",
              "      <td>0.826</td>\n",
              "      <td>7</td>\n",
              "      <td>-4.314</td>\n",
              "      <td>0</td>\n",
              "      <td>0.0636</td>\n",
              "      <td>0.00064</td>\n",
              "      <td>0.000687</td>\n",
              "      <td>0.0703</td>\n",
              "      <td>0.359</td>\n",
              "      <td>139.161</td>\n",
              "      <td>6p8DGrcAUBuLUgDIKcUn0P</td>\n",
              "      <td>spotify:track:6p8DGrcAUBuLUgDIKcUn0P</td>\n",
              "      <td>https://api.spotify.com/v1/tracks/6p8DGrcAUBuL...</td>\n",
              "      <td>https://api.spotify.com/v1/audio-analysis/6p8D...</td>\n",
              "      <td>256072</td>\n",
              "      <td>4</td>\n",
              "    </tr>\n",
              "    <tr>\n",
              "      <th>2</th>\n",
              "      <td>grandson</td>\n",
              "      <td>In Over My Head</td>\n",
              "      <td>60</td>\n",
              "      <td>['modern alternative rock', 'modern rock', 'ro...</td>\n",
              "      <td>Alternative Beats</td>\n",
              "      <td>0.582</td>\n",
              "      <td>0.817</td>\n",
              "      <td>0</td>\n",
              "      <td>-6.475</td>\n",
              "      <td>1</td>\n",
              "      <td>0.0399</td>\n",
              "      <td>0.00170</td>\n",
              "      <td>0.015800</td>\n",
              "      <td>0.5750</td>\n",
              "      <td>0.622</td>\n",
              "      <td>155.124</td>\n",
              "      <td>3r0mb1tzAcCNoA8YRXuIhZ</td>\n",
              "      <td>spotify:track:3r0mb1tzAcCNoA8YRXuIhZ</td>\n",
              "      <td>https://api.spotify.com/v1/tracks/3r0mb1tzAcCN...</td>\n",
              "      <td>https://api.spotify.com/v1/audio-analysis/3r0m...</td>\n",
              "      <td>198366</td>\n",
              "      <td>4</td>\n",
              "    </tr>\n",
              "    <tr>\n",
              "      <th>3</th>\n",
              "      <td>Counting Crows</td>\n",
              "      <td>Bobby and the Rat-Kings</td>\n",
              "      <td>0</td>\n",
              "      <td>['alternative rock', 'neo mellow', 'pop rock',...</td>\n",
              "      <td>All New Rock</td>\n",
              "      <td>0.470</td>\n",
              "      <td>0.881</td>\n",
              "      <td>5</td>\n",
              "      <td>-4.529</td>\n",
              "      <td>1</td>\n",
              "      <td>0.1330</td>\n",
              "      <td>0.31900</td>\n",
              "      <td>0.000000</td>\n",
              "      <td>0.0856</td>\n",
              "      <td>0.422</td>\n",
              "      <td>141.837</td>\n",
              "      <td>4g3abvA9DjKbjAoRDHWRsx</td>\n",
              "      <td>spotify:track:4g3abvA9DjKbjAoRDHWRsx</td>\n",
              "      <td>https://api.spotify.com/v1/tracks/4g3abvA9DjKb...</td>\n",
              "      <td>https://api.spotify.com/v1/audio-analysis/4g3a...</td>\n",
              "      <td>324867</td>\n",
              "      <td>4</td>\n",
              "    </tr>\n",
              "    <tr>\n",
              "      <th>4</th>\n",
              "      <td>Led Zeppelin</td>\n",
              "      <td>Black Dog - Remaster</td>\n",
              "      <td>72</td>\n",
              "      <td>['album rock', 'classic rock', 'hard rock', 'r...</td>\n",
              "      <td>70s Rock Anthems</td>\n",
              "      <td>0.437</td>\n",
              "      <td>0.864</td>\n",
              "      <td>4</td>\n",
              "      <td>-7.842</td>\n",
              "      <td>0</td>\n",
              "      <td>0.0904</td>\n",
              "      <td>0.39600</td>\n",
              "      <td>0.031400</td>\n",
              "      <td>0.2420</td>\n",
              "      <td>0.749</td>\n",
              "      <td>81.394</td>\n",
              "      <td>3qT4bUD1MaWpGrTwcvguhb</td>\n",
              "      <td>spotify:track:3qT4bUD1MaWpGrTwcvguhb</td>\n",
              "      <td>https://api.spotify.com/v1/tracks/3qT4bUD1MaWp...</td>\n",
              "      <td>https://api.spotify.com/v1/audio-analysis/3qT4...</td>\n",
              "      <td>295387</td>\n",
              "      <td>4</td>\n",
              "    </tr>\n",
              "    <tr>\n",
              "      <th>5</th>\n",
              "      <td>Engine Down</td>\n",
              "      <td>Songbird</td>\n",
              "      <td>25</td>\n",
              "      <td>['emo punk', 'post-hardcore']</td>\n",
              "      <td>memories</td>\n",
              "      <td>0.594</td>\n",
              "      <td>0.752</td>\n",
              "      <td>0</td>\n",
              "      <td>-5.879</td>\n",
              "      <td>0</td>\n",
              "      <td>0.0290</td>\n",
              "      <td>0.00520</td>\n",
              "      <td>0.000019</td>\n",
              "      <td>0.0735</td>\n",
              "      <td>0.345</td>\n",
              "      <td>101.980</td>\n",
              "      <td>2gupkqB7ID1d4x1aXXSWIM</td>\n",
              "      <td>spotify:track:2gupkqB7ID1d4x1aXXSWIM</td>\n",
              "      <td>https://api.spotify.com/v1/tracks/2gupkqB7ID1d...</td>\n",
              "      <td>https://api.spotify.com/v1/audio-analysis/2gup...</td>\n",
              "      <td>327800</td>\n",
              "      <td>4</td>\n",
              "    </tr>\n",
              "    <tr>\n",
              "      <th>6</th>\n",
              "      <td>John Diva &amp; the Rockets of Love</td>\n",
              "      <td>American Amadeus</td>\n",
              "      <td>29</td>\n",
              "      <td>['modern hard rock', 'new wave of glam metal']</td>\n",
              "      <td>Hard Rock</td>\n",
              "      <td>0.446</td>\n",
              "      <td>0.973</td>\n",
              "      <td>1</td>\n",
              "      <td>-4.111</td>\n",
              "      <td>1</td>\n",
              "      <td>0.0539</td>\n",
              "      <td>0.01560</td>\n",
              "      <td>0.000002</td>\n",
              "      <td>0.3220</td>\n",
              "      <td>0.520</td>\n",
              "      <td>169.998</td>\n",
              "      <td>5xJ3qPv0iq82Wrk7ibZRAV</td>\n",
              "      <td>spotify:track:5xJ3qPv0iq82Wrk7ibZRAV</td>\n",
              "      <td>https://api.spotify.com/v1/tracks/5xJ3qPv0iq82...</td>\n",
              "      <td>https://api.spotify.com/v1/audio-analysis/5xJ3...</td>\n",
              "      <td>240840</td>\n",
              "      <td>4</td>\n",
              "    </tr>\n",
              "    <tr>\n",
              "      <th>7</th>\n",
              "      <td>The Dandy Warhols</td>\n",
              "      <td>Mohammed</td>\n",
              "      <td>39</td>\n",
              "      <td>['alternative rock', 'dance-punk', 'indie rock...</td>\n",
              "      <td>00s Pop Rock</td>\n",
              "      <td>0.523</td>\n",
              "      <td>0.698</td>\n",
              "      <td>0</td>\n",
              "      <td>-8.265</td>\n",
              "      <td>1</td>\n",
              "      <td>0.0319</td>\n",
              "      <td>0.01700</td>\n",
              "      <td>0.800000</td>\n",
              "      <td>0.2030</td>\n",
              "      <td>0.235</td>\n",
              "      <td>102.110</td>\n",
              "      <td>2R71wdmz1tdbioNwPOrOK5</td>\n",
              "      <td>spotify:track:2R71wdmz1tdbioNwPOrOK5</td>\n",
              "      <td>https://api.spotify.com/v1/tracks/2R71wdmz1tdb...</td>\n",
              "      <td>https://api.spotify.com/v1/audio-analysis/2R71...</td>\n",
              "      <td>320467</td>\n",
              "      <td>4</td>\n",
              "    </tr>\n",
              "    <tr>\n",
              "      <th>8</th>\n",
              "      <td>Red Hot Chili Peppers</td>\n",
              "      <td>Scar Tissue</td>\n",
              "      <td>78</td>\n",
              "      <td>['alternative rock', 'funk metal', 'funk rock'...</td>\n",
              "      <td>Soft Rock</td>\n",
              "      <td>0.595</td>\n",
              "      <td>0.717</td>\n",
              "      <td>0</td>\n",
              "      <td>-4.803</td>\n",
              "      <td>1</td>\n",
              "      <td>0.0295</td>\n",
              "      <td>0.07790</td>\n",
              "      <td>0.002740</td>\n",
              "      <td>0.1080</td>\n",
              "      <td>0.547</td>\n",
              "      <td>88.969</td>\n",
              "      <td>1G391cbiT3v3Cywg8T7DM1</td>\n",
              "      <td>spotify:track:1G391cbiT3v3Cywg8T7DM1</td>\n",
              "      <td>https://api.spotify.com/v1/tracks/1G391cbiT3v3...</td>\n",
              "      <td>https://api.spotify.com/v1/audio-analysis/1G39...</td>\n",
              "      <td>215907</td>\n",
              "      <td>4</td>\n",
              "    </tr>\n",
              "    <tr>\n",
              "      <th>9</th>\n",
              "      <td>Elton John</td>\n",
              "      <td>Rocket Man (I Think It's Going To Be A Long, L...</td>\n",
              "      <td>82</td>\n",
              "      <td>['glam rock', 'mellow gold', 'piano rock', 'so...</td>\n",
              "      <td>70s Soft Rock</td>\n",
              "      <td>0.601</td>\n",
              "      <td>0.532</td>\n",
              "      <td>10</td>\n",
              "      <td>-9.119</td>\n",
              "      <td>1</td>\n",
              "      <td>0.0286</td>\n",
              "      <td>0.43200</td>\n",
              "      <td>0.000006</td>\n",
              "      <td>0.0925</td>\n",
              "      <td>0.341</td>\n",
              "      <td>136.571</td>\n",
              "      <td>3gdewACMIVMEWVbyb8O9sY</td>\n",
              "      <td>spotify:track:3gdewACMIVMEWVbyb8O9sY</td>\n",
              "      <td>https://api.spotify.com/v1/tracks/3gdewACMIVME...</td>\n",
              "      <td>https://api.spotify.com/v1/audio-analysis/3gde...</td>\n",
              "      <td>281613</td>\n",
              "      <td>4</td>\n",
              "    </tr>\n",
              "  </tbody>\n",
              "</table>\n",
              "</div>"
            ],
            "text/plain": [
              "                       Artist Name  ... time_signature\n",
              "0                  God Street Wine  ...              4\n",
              "1                      cleopatrick  ...              4\n",
              "2                         grandson  ...              4\n",
              "3                   Counting Crows  ...              4\n",
              "4                     Led Zeppelin  ...              4\n",
              "5                      Engine Down  ...              4\n",
              "6  John Diva & the Rockets of Love  ...              4\n",
              "7                The Dandy Warhols  ...              4\n",
              "8            Red Hot Chili Peppers  ...              4\n",
              "9                       Elton John  ...              4\n",
              "\n",
              "[10 rows x 22 columns]"
            ]
          },
          "metadata": {
            "tags": []
          },
          "execution_count": 3
        }
      ]
    },
    {
      "cell_type": "markdown",
      "metadata": {
        "id": "iNdbJA6t_kIZ"
      },
      "source": [
        "Reading With Dask:\n"
      ]
    },
    {
      "cell_type": "code",
      "metadata": {
        "id": "J0JudnlsEgCB"
      },
      "source": [
        "import dask.dataframe as dd"
      ],
      "execution_count": null,
      "outputs": []
    },
    {
      "cell_type": "code",
      "metadata": {
        "colab": {
          "base_uri": "https://localhost:8080/",
          "height": 211
        },
        "id": "7c846bDlFT0L",
        "outputId": "eabff12c-0415-4747-e35b-a7f43dcf7eb6"
      },
      "source": [
        "df2= dd.read_csv('rock_music_data.csv')\n",
        "df2"
      ],
      "execution_count": null,
      "outputs": [
        {
          "output_type": "execute_result",
          "data": {
            "text/html": [
              "<div><strong>Dask DataFrame Structure:</strong></div>\n",
              "<div>\n",
              "<style scoped>\n",
              "    .dataframe tbody tr th:only-of-type {\n",
              "        vertical-align: middle;\n",
              "    }\n",
              "\n",
              "    .dataframe tbody tr th {\n",
              "        vertical-align: top;\n",
              "    }\n",
              "\n",
              "    .dataframe thead th {\n",
              "        text-align: right;\n",
              "    }\n",
              "</style>\n",
              "<table border=\"1\" class=\"dataframe\">\n",
              "  <thead>\n",
              "    <tr style=\"text-align: right;\">\n",
              "      <th></th>\n",
              "      <th>Artist Name</th>\n",
              "      <th>Track Name</th>\n",
              "      <th>Popularity</th>\n",
              "      <th>Genres</th>\n",
              "      <th>Playlist</th>\n",
              "      <th>danceability</th>\n",
              "      <th>energy</th>\n",
              "      <th>key</th>\n",
              "      <th>loudness</th>\n",
              "      <th>mode</th>\n",
              "      <th>speechiness</th>\n",
              "      <th>acousticness</th>\n",
              "      <th>instrumentalness</th>\n",
              "      <th>liveness</th>\n",
              "      <th>valence</th>\n",
              "      <th>tempo</th>\n",
              "      <th>id</th>\n",
              "      <th>uri</th>\n",
              "      <th>track_href</th>\n",
              "      <th>analysis_url</th>\n",
              "      <th>duration_ms</th>\n",
              "      <th>time_signature</th>\n",
              "    </tr>\n",
              "    <tr>\n",
              "      <th>npartitions=1</th>\n",
              "      <th></th>\n",
              "      <th></th>\n",
              "      <th></th>\n",
              "      <th></th>\n",
              "      <th></th>\n",
              "      <th></th>\n",
              "      <th></th>\n",
              "      <th></th>\n",
              "      <th></th>\n",
              "      <th></th>\n",
              "      <th></th>\n",
              "      <th></th>\n",
              "      <th></th>\n",
              "      <th></th>\n",
              "      <th></th>\n",
              "      <th></th>\n",
              "      <th></th>\n",
              "      <th></th>\n",
              "      <th></th>\n",
              "      <th></th>\n",
              "      <th></th>\n",
              "      <th></th>\n",
              "    </tr>\n",
              "  </thead>\n",
              "  <tbody>\n",
              "    <tr>\n",
              "      <th></th>\n",
              "      <td>object</td>\n",
              "      <td>object</td>\n",
              "      <td>int64</td>\n",
              "      <td>object</td>\n",
              "      <td>object</td>\n",
              "      <td>float64</td>\n",
              "      <td>float64</td>\n",
              "      <td>int64</td>\n",
              "      <td>float64</td>\n",
              "      <td>int64</td>\n",
              "      <td>float64</td>\n",
              "      <td>float64</td>\n",
              "      <td>float64</td>\n",
              "      <td>float64</td>\n",
              "      <td>float64</td>\n",
              "      <td>float64</td>\n",
              "      <td>object</td>\n",
              "      <td>object</td>\n",
              "      <td>object</td>\n",
              "      <td>object</td>\n",
              "      <td>int64</td>\n",
              "      <td>int64</td>\n",
              "    </tr>\n",
              "    <tr>\n",
              "      <th></th>\n",
              "      <td>...</td>\n",
              "      <td>...</td>\n",
              "      <td>...</td>\n",
              "      <td>...</td>\n",
              "      <td>...</td>\n",
              "      <td>...</td>\n",
              "      <td>...</td>\n",
              "      <td>...</td>\n",
              "      <td>...</td>\n",
              "      <td>...</td>\n",
              "      <td>...</td>\n",
              "      <td>...</td>\n",
              "      <td>...</td>\n",
              "      <td>...</td>\n",
              "      <td>...</td>\n",
              "      <td>...</td>\n",
              "      <td>...</td>\n",
              "      <td>...</td>\n",
              "      <td>...</td>\n",
              "      <td>...</td>\n",
              "      <td>...</td>\n",
              "      <td>...</td>\n",
              "    </tr>\n",
              "  </tbody>\n",
              "</table>\n",
              "</div>\n",
              "<div>Dask Name: from-delayed, 3 tasks</div>"
            ],
            "text/plain": [
              "Dask DataFrame Structure:\n",
              "              Artist Name Track Name Popularity  Genres Playlist danceability   energy    key loudness   mode speechiness acousticness instrumentalness liveness  valence    tempo      id     uri track_href analysis_url duration_ms time_signature\n",
              "npartitions=1                                                                                                                                                                                                                                        \n",
              "                   object     object      int64  object   object      float64  float64  int64  float64  int64     float64      float64          float64  float64  float64  float64  object  object     object       object       int64          int64\n",
              "                      ...        ...        ...     ...      ...          ...      ...    ...      ...    ...         ...          ...              ...      ...      ...      ...     ...     ...        ...          ...         ...            ...\n",
              "Dask Name: from-delayed, 3 tasks"
            ]
          },
          "metadata": {
            "tags": []
          },
          "execution_count": 45
        }
      ]
    },
    {
      "cell_type": "code",
      "metadata": {
        "colab": {
          "base_uri": "https://localhost:8080/"
        },
        "id": "43DCfDEGMi8C",
        "outputId": "481bf0c4-7466-472a-a71b-4179eaa21de9"
      },
      "source": [
        "df2.shape, df2"
      ],
      "execution_count": null,
      "outputs": [
        {
          "output_type": "execute_result",
          "data": {
            "text/plain": [
              "((Delayed('int-b15e038f-c849-4b49-87b6-9ef38a761645'), 22),\n",
              " Dask DataFrame Structure:\n",
              "               Artist Name Track Name Popularity  Genres Playlist danceability   energy    key loudness   mode speechiness acousticness instrumentalness liveness  valence    tempo      id     uri track_href analysis_url duration_ms time_signature\n",
              " npartitions=1                                                                                                                                                                                                                                        \n",
              "                    object     object      int64  object   object      float64  float64  int64  float64  int64     float64      float64          float64  float64  float64  float64  object  object     object       object       int64          int64\n",
              "                       ...        ...        ...     ...      ...          ...      ...    ...      ...    ...         ...          ...              ...      ...      ...      ...     ...     ...        ...          ...         ...            ...\n",
              " Dask Name: from-delayed, 3 tasks)"
            ]
          },
          "metadata": {
            "tags": []
          },
          "execution_count": 46
        }
      ]
    },
    {
      "cell_type": "markdown",
      "metadata": {
        "id": "N5U3_sGcGZps"
      },
      "source": [
        "Reading With Dask and Modin:"
      ]
    },
    {
      "cell_type": "code",
      "metadata": {
        "colab": {
          "base_uri": "https://localhost:8080/",
          "height": 1000
        },
        "id": "nPeLn4zEGzWq",
        "outputId": "40abf4a9-5693-484f-fae1-503c27fa10b3"
      },
      "source": [
        "pip install modin[ray]"
      ],
      "execution_count": null,
      "outputs": [
        {
          "output_type": "stream",
          "text": [
            "Collecting modin[ray]\n",
            "\u001b[?25l  Downloading https://files.pythonhosted.org/packages/fc/82/3c7a254d95372c3deaefd087fdcef8783aa30186eb15d7e85e31ab493e29/modin-0.10.1-py3-none-manylinux1_x86_64.whl (691kB)\n",
            "\r\u001b[K     |▌                               | 10kB 15.3MB/s eta 0:00:01\r\u001b[K     |█                               | 20kB 19.1MB/s eta 0:00:01\r\u001b[K     |█▍                              | 30kB 16.1MB/s eta 0:00:01\r\u001b[K     |██                              | 40kB 11.2MB/s eta 0:00:01\r\u001b[K     |██▍                             | 51kB 7.9MB/s eta 0:00:01\r\u001b[K     |██▉                             | 61kB 7.4MB/s eta 0:00:01\r\u001b[K     |███▎                            | 71kB 7.2MB/s eta 0:00:01\r\u001b[K     |███▉                            | 81kB 7.0MB/s eta 0:00:01\r\u001b[K     |████▎                           | 92kB 7.4MB/s eta 0:00:01\r\u001b[K     |████▊                           | 102kB 7.5MB/s eta 0:00:01\r\u001b[K     |█████▏                          | 112kB 7.5MB/s eta 0:00:01\r\u001b[K     |█████▊                          | 122kB 7.5MB/s eta 0:00:01\r\u001b[K     |██████▏                         | 133kB 7.5MB/s eta 0:00:01\r\u001b[K     |██████▋                         | 143kB 7.5MB/s eta 0:00:01\r\u001b[K     |███████                         | 153kB 7.5MB/s eta 0:00:01\r\u001b[K     |███████▋                        | 163kB 7.5MB/s eta 0:00:01\r\u001b[K     |████████                        | 174kB 7.5MB/s eta 0:00:01\r\u001b[K     |████████▌                       | 184kB 7.5MB/s eta 0:00:01\r\u001b[K     |█████████                       | 194kB 7.5MB/s eta 0:00:01\r\u001b[K     |█████████▌                      | 204kB 7.5MB/s eta 0:00:01\r\u001b[K     |██████████                      | 215kB 7.5MB/s eta 0:00:01\r\u001b[K     |██████████▍                     | 225kB 7.5MB/s eta 0:00:01\r\u001b[K     |███████████                     | 235kB 7.5MB/s eta 0:00:01\r\u001b[K     |███████████▍                    | 245kB 7.5MB/s eta 0:00:01\r\u001b[K     |███████████▉                    | 256kB 7.5MB/s eta 0:00:01\r\u001b[K     |████████████▎                   | 266kB 7.5MB/s eta 0:00:01\r\u001b[K     |████████████▉                   | 276kB 7.5MB/s eta 0:00:01\r\u001b[K     |█████████████▎                  | 286kB 7.5MB/s eta 0:00:01\r\u001b[K     |█████████████▊                  | 296kB 7.5MB/s eta 0:00:01\r\u001b[K     |██████████████▏                 | 307kB 7.5MB/s eta 0:00:01\r\u001b[K     |██████████████▊                 | 317kB 7.5MB/s eta 0:00:01\r\u001b[K     |███████████████▏                | 327kB 7.5MB/s eta 0:00:01\r\u001b[K     |███████████████▋                | 337kB 7.5MB/s eta 0:00:01\r\u001b[K     |████████████████▏               | 348kB 7.5MB/s eta 0:00:01\r\u001b[K     |████████████████▋               | 358kB 7.5MB/s eta 0:00:01\r\u001b[K     |█████████████████               | 368kB 7.5MB/s eta 0:00:01\r\u001b[K     |█████████████████▌              | 378kB 7.5MB/s eta 0:00:01\r\u001b[K     |██████████████████              | 389kB 7.5MB/s eta 0:00:01\r\u001b[K     |██████████████████▌             | 399kB 7.5MB/s eta 0:00:01\r\u001b[K     |███████████████████             | 409kB 7.5MB/s eta 0:00:01\r\u001b[K     |███████████████████▍            | 419kB 7.5MB/s eta 0:00:01\r\u001b[K     |████████████████████            | 430kB 7.5MB/s eta 0:00:01\r\u001b[K     |████████████████████▍           | 440kB 7.5MB/s eta 0:00:01\r\u001b[K     |████████████████████▉           | 450kB 7.5MB/s eta 0:00:01\r\u001b[K     |█████████████████████▎          | 460kB 7.5MB/s eta 0:00:01\r\u001b[K     |█████████████████████▉          | 471kB 7.5MB/s eta 0:00:01\r\u001b[K     |██████████████████████▎         | 481kB 7.5MB/s eta 0:00:01\r\u001b[K     |██████████████████████▊         | 491kB 7.5MB/s eta 0:00:01\r\u001b[K     |███████████████████████▎        | 501kB 7.5MB/s eta 0:00:01\r\u001b[K     |███████████████████████▊        | 512kB 7.5MB/s eta 0:00:01\r\u001b[K     |████████████████████████▏       | 522kB 7.5MB/s eta 0:00:01\r\u001b[K     |████████████████████████▋       | 532kB 7.5MB/s eta 0:00:01\r\u001b[K     |█████████████████████████▏      | 542kB 7.5MB/s eta 0:00:01\r\u001b[K     |█████████████████████████▋      | 552kB 7.5MB/s eta 0:00:01\r\u001b[K     |██████████████████████████      | 563kB 7.5MB/s eta 0:00:01\r\u001b[K     |██████████████████████████▌     | 573kB 7.5MB/s eta 0:00:01\r\u001b[K     |███████████████████████████     | 583kB 7.5MB/s eta 0:00:01\r\u001b[K     |███████████████████████████▌    | 593kB 7.5MB/s eta 0:00:01\r\u001b[K     |████████████████████████████    | 604kB 7.5MB/s eta 0:00:01\r\u001b[K     |████████████████████████████▍   | 614kB 7.5MB/s eta 0:00:01\r\u001b[K     |█████████████████████████████   | 624kB 7.5MB/s eta 0:00:01\r\u001b[K     |█████████████████████████████▍  | 634kB 7.5MB/s eta 0:00:01\r\u001b[K     |█████████████████████████████▉  | 645kB 7.5MB/s eta 0:00:01\r\u001b[K     |██████████████████████████████▍ | 655kB 7.5MB/s eta 0:00:01\r\u001b[K     |██████████████████████████████▉ | 665kB 7.5MB/s eta 0:00:01\r\u001b[K     |███████████████████████████████▎| 675kB 7.5MB/s eta 0:00:01\r\u001b[K     |███████████████████████████████▊| 686kB 7.5MB/s eta 0:00:01\r\u001b[K     |████████████████████████████████| 696kB 7.5MB/s \n",
            "\u001b[?25hRequirement already satisfied: packaging in /usr/local/lib/python3.7/dist-packages (from modin[ray]) (21.0)\n",
            "Requirement already satisfied: numpy>=1.16.5 in /usr/local/lib/python3.7/dist-packages (from modin[ray]) (1.19.5)\n",
            "Collecting pandas==1.3.0\n",
            "\u001b[?25l  Downloading https://files.pythonhosted.org/packages/99/f7/01cea7f6c963100f045876eb4aa1817069c5c9eca73d2dbfb5d31ff9a39f/pandas-1.3.0-cp37-cp37m-manylinux_2_5_x86_64.manylinux1_x86_64.whl (10.8MB)\n",
            "\u001b[K     |████████████████████████████████| 10.8MB 28.9MB/s \n",
            "\u001b[?25hRequirement already satisfied: pyarrow>=1.0; extra == \"ray\" in /usr/local/lib/python3.7/dist-packages (from modin[ray]) (3.0.0)\n",
            "Collecting ray[default]>=1.4.0; extra == \"ray\"\n",
            "\u001b[?25l  Downloading https://files.pythonhosted.org/packages/12/b8/27822537e56693f8c91ced3e46c38220a84767d73cc3d01d5d5351aacc1e/ray-1.4.1-cp37-cp37m-manylinux2014_x86_64.whl (51.6MB)\n",
            "\u001b[K     |████████████████████████████████| 51.6MB 48kB/s \n",
            "\u001b[?25hRequirement already satisfied: pyparsing>=2.0.2 in /usr/local/lib/python3.7/dist-packages (from packaging->modin[ray]) (2.4.7)\n",
            "Requirement already satisfied: python-dateutil>=2.7.3 in /usr/local/lib/python3.7/dist-packages (from pandas==1.3.0->modin[ray]) (2.8.1)\n",
            "Requirement already satisfied: pytz>=2017.3 in /usr/local/lib/python3.7/dist-packages (from pandas==1.3.0->modin[ray]) (2018.9)\n",
            "Requirement already satisfied: grpcio>=1.28.1 in /usr/local/lib/python3.7/dist-packages (from ray[default]>=1.4.0; extra == \"ray\"->modin[ray]) (1.34.1)\n",
            "Requirement already satisfied: requests in /usr/local/lib/python3.7/dist-packages (from ray[default]>=1.4.0; extra == \"ray\"->modin[ray]) (2.23.0)\n",
            "Collecting gpustat\n",
            "\u001b[?25l  Downloading https://files.pythonhosted.org/packages/b4/69/d8c849715171aeabd61af7da080fdc60948b5a396d2422f1f4672e43d008/gpustat-0.6.0.tar.gz (78kB)\n",
            "\u001b[K     |████████████████████████████████| 81kB 9.6MB/s \n",
            "\u001b[?25hCollecting pydantic>=1.8\n",
            "\u001b[?25l  Downloading https://files.pythonhosted.org/packages/9f/f2/2d5425efe57f6c4e06cbe5e587c1fd16929dcf0eb90bd4d3d1e1c97d1151/pydantic-1.8.2-cp37-cp37m-manylinux2014_x86_64.whl (10.1MB)\n",
            "\u001b[K     |████████████████████████████████| 10.1MB 28.1MB/s \n",
            "\u001b[?25hCollecting aiohttp\n",
            "\u001b[?25l  Downloading https://files.pythonhosted.org/packages/88/c0/5890b4c8b04a79b7360e8fe4490feb0bb3ab179743f199f0e6220cebd568/aiohttp-3.7.4.post0-cp37-cp37m-manylinux2014_x86_64.whl (1.3MB)\n",
            "\u001b[K     |████████████████████████████████| 1.3MB 37.4MB/s \n",
            "\u001b[?25hCollecting py-spy>=0.2.0\n",
            "\u001b[?25l  Downloading https://files.pythonhosted.org/packages/9d/4d/1a9cbe9a0b543e6733cb38afe26451522a9ef8e4897b59e74cc76838f245/py_spy-0.3.7-py2.py3-none-manylinux1_x86_64.whl (3.1MB)\n",
            "\u001b[K     |████████████████████████████████| 3.1MB 35.5MB/s \n",
            "\u001b[?25hRequirement already satisfied: click>=7.0 in /usr/local/lib/python3.7/dist-packages (from ray[default]>=1.4.0; extra == \"ray\"->modin[ray]) (7.1.2)\n",
            "Collecting colorama\n",
            "  Downloading https://files.pythonhosted.org/packages/44/98/5b86278fbbf250d239ae0ecb724f8572af1c91f4a11edf4d36a206189440/colorama-0.4.4-py2.py3-none-any.whl\n",
            "Requirement already satisfied: jsonschema in /usr/local/lib/python3.7/dist-packages (from ray[default]>=1.4.0; extra == \"ray\"->modin[ray]) (2.6.0)\n",
            "Collecting opencensus\n",
            "\u001b[?25l  Downloading https://files.pythonhosted.org/packages/18/59/12044123133d000f705383ad98579aeb0dd82d66b33a254a21b54bf0d6bb/opencensus-0.7.13-py2.py3-none-any.whl (127kB)\n",
            "\u001b[K     |████████████████████████████████| 133kB 49.4MB/s \n",
            "\u001b[?25hRequirement already satisfied: filelock in /usr/local/lib/python3.7/dist-packages (from ray[default]>=1.4.0; extra == \"ray\"->modin[ray]) (3.0.12)\n",
            "Collecting redis>=3.5.0\n",
            "\u001b[?25l  Downloading https://files.pythonhosted.org/packages/a7/7c/24fb0511df653cf1a5d938d8f5d19802a88cef255706fdda242ff97e91b7/redis-3.5.3-py2.py3-none-any.whl (72kB)\n",
            "\u001b[K     |████████████████████████████████| 81kB 9.2MB/s \n",
            "\u001b[?25hCollecting aioredis\n",
            "\u001b[?25l  Downloading https://files.pythonhosted.org/packages/b0/64/1b1612d0a104f21f80eb4c6e1b6075f2e6aba8e228f46f229cfd3fdac859/aioredis-1.3.1-py3-none-any.whl (65kB)\n",
            "\u001b[K     |████████████████████████████████| 71kB 8.8MB/s \n",
            "\u001b[?25hCollecting aiohttp-cors\n",
            "  Downloading https://files.pythonhosted.org/packages/13/e7/e436a0c0eb5127d8b491a9b83ecd2391c6ff7dcd5548dfaec2080a2340fd/aiohttp_cors-0.7.0-py3-none-any.whl\n",
            "Requirement already satisfied: prometheus-client>=0.7.1 in /usr/local/lib/python3.7/dist-packages (from ray[default]>=1.4.0; extra == \"ray\"->modin[ray]) (0.11.0)\n",
            "Requirement already satisfied: pyyaml in /usr/local/lib/python3.7/dist-packages (from ray[default]>=1.4.0; extra == \"ray\"->modin[ray]) (3.13)\n",
            "Requirement already satisfied: msgpack<2.0.0,>=1.0.0 in /usr/local/lib/python3.7/dist-packages (from ray[default]>=1.4.0; extra == \"ray\"->modin[ray]) (1.0.2)\n",
            "Requirement already satisfied: protobuf>=3.15.3 in /usr/local/lib/python3.7/dist-packages (from ray[default]>=1.4.0; extra == \"ray\"->modin[ray]) (3.17.3)\n",
            "Collecting colorful; extra == \"default\"\n",
            "\u001b[?25l  Downloading https://files.pythonhosted.org/packages/b0/8e/e386e248266952d24d73ed734c2f5513f34d9557032618c8910e605dfaf6/colorful-0.5.4-py2.py3-none-any.whl (201kB)\n",
            "\u001b[K     |████████████████████████████████| 204kB 46.3MB/s \n",
            "\u001b[?25hRequirement already satisfied: six>=1.5 in /usr/local/lib/python3.7/dist-packages (from python-dateutil>=2.7.3->pandas==1.3.0->modin[ray]) (1.15.0)\n",
            "Requirement already satisfied: certifi>=2017.4.17 in /usr/local/lib/python3.7/dist-packages (from requests->ray[default]>=1.4.0; extra == \"ray\"->modin[ray]) (2021.5.30)\n",
            "Requirement already satisfied: chardet<4,>=3.0.2 in /usr/local/lib/python3.7/dist-packages (from requests->ray[default]>=1.4.0; extra == \"ray\"->modin[ray]) (3.0.4)\n",
            "Requirement already satisfied: idna<3,>=2.5 in /usr/local/lib/python3.7/dist-packages (from requests->ray[default]>=1.4.0; extra == \"ray\"->modin[ray]) (2.10)\n",
            "Requirement already satisfied: urllib3!=1.25.0,!=1.25.1,<1.26,>=1.21.1 in /usr/local/lib/python3.7/dist-packages (from requests->ray[default]>=1.4.0; extra == \"ray\"->modin[ray]) (1.24.3)\n",
            "Requirement already satisfied: nvidia-ml-py3>=7.352.0 in /usr/local/lib/python3.7/dist-packages (from gpustat->ray[default]>=1.4.0; extra == \"ray\"->modin[ray]) (7.352.0)\n",
            "Requirement already satisfied: psutil in /usr/local/lib/python3.7/dist-packages (from gpustat->ray[default]>=1.4.0; extra == \"ray\"->modin[ray]) (5.4.8)\n",
            "Collecting blessings>=1.6\n",
            "  Downloading https://files.pythonhosted.org/packages/03/74/489f85a78247609c6b4f13733cbf3ba0d864b11aa565617b645d6fdf2a4a/blessings-1.7-py3-none-any.whl\n",
            "Requirement already satisfied: typing-extensions>=3.7.4.3 in /usr/local/lib/python3.7/dist-packages (from pydantic>=1.8->ray[default]>=1.4.0; extra == \"ray\"->modin[ray]) (3.7.4.3)\n",
            "Collecting multidict<7.0,>=4.5\n",
            "\u001b[?25l  Downloading https://files.pythonhosted.org/packages/7c/a6/4123b8165acbe773d1a8dc8e3f0d1edea16d29f7de018eda769abb56bd30/multidict-5.1.0-cp37-cp37m-manylinux2014_x86_64.whl (142kB)\n",
            "\u001b[K     |████████████████████████████████| 143kB 41.2MB/s \n",
            "\u001b[?25hCollecting yarl<2.0,>=1.0\n",
            "\u001b[?25l  Downloading https://files.pythonhosted.org/packages/f1/62/046834c5fc998c88ab2ef722f5d42122230a632212c8afa76418324f53ff/yarl-1.6.3-cp37-cp37m-manylinux2014_x86_64.whl (294kB)\n",
            "\u001b[K     |████████████████████████████████| 296kB 45.3MB/s \n",
            "\u001b[?25hRequirement already satisfied: attrs>=17.3.0 in /usr/local/lib/python3.7/dist-packages (from aiohttp->ray[default]>=1.4.0; extra == \"ray\"->modin[ray]) (21.2.0)\n",
            "Collecting async-timeout<4.0,>=3.0\n",
            "  Downloading https://files.pythonhosted.org/packages/e1/1e/5a4441be21b0726c4464f3f23c8b19628372f606755a9d2e46c187e65ec4/async_timeout-3.0.1-py3-none-any.whl\n",
            "Collecting opencensus-context==0.1.2\n",
            "  Downloading https://files.pythonhosted.org/packages/f1/33/990f1bd9e7ee770fc8d3c154fc24743a96f16a0e49e14e1b7540cc2fdd93/opencensus_context-0.1.2-py2.py3-none-any.whl\n",
            "Requirement already satisfied: google-api-core<2.0.0,>=1.0.0 in /usr/local/lib/python3.7/dist-packages (from opencensus->ray[default]>=1.4.0; extra == \"ray\"->modin[ray]) (1.26.3)\n",
            "Collecting hiredis\n",
            "\u001b[?25l  Downloading https://files.pythonhosted.org/packages/ed/33/290cea35b09c80b4634773ad5572a8030a87b5d39736719f698f521d2a13/hiredis-2.0.0-cp37-cp37m-manylinux2010_x86_64.whl (85kB)\n",
            "\u001b[K     |████████████████████████████████| 92kB 11.5MB/s \n",
            "\u001b[?25hRequirement already satisfied: setuptools>=40.3.0 in /usr/local/lib/python3.7/dist-packages (from google-api-core<2.0.0,>=1.0.0->opencensus->ray[default]>=1.4.0; extra == \"ray\"->modin[ray]) (57.2.0)\n",
            "Requirement already satisfied: googleapis-common-protos<2.0dev,>=1.6.0 in /usr/local/lib/python3.7/dist-packages (from google-api-core<2.0.0,>=1.0.0->opencensus->ray[default]>=1.4.0; extra == \"ray\"->modin[ray]) (1.53.0)\n",
            "Requirement already satisfied: google-auth<2.0dev,>=1.21.1 in /usr/local/lib/python3.7/dist-packages (from google-api-core<2.0.0,>=1.0.0->opencensus->ray[default]>=1.4.0; extra == \"ray\"->modin[ray]) (1.32.1)\n",
            "Requirement already satisfied: pyasn1-modules>=0.2.1 in /usr/local/lib/python3.7/dist-packages (from google-auth<2.0dev,>=1.21.1->google-api-core<2.0.0,>=1.0.0->opencensus->ray[default]>=1.4.0; extra == \"ray\"->modin[ray]) (0.2.8)\n",
            "Requirement already satisfied: cachetools<5.0,>=2.0.0 in /usr/local/lib/python3.7/dist-packages (from google-auth<2.0dev,>=1.21.1->google-api-core<2.0.0,>=1.0.0->opencensus->ray[default]>=1.4.0; extra == \"ray\"->modin[ray]) (4.2.2)\n",
            "Requirement already satisfied: rsa<5,>=3.1.4; python_version >= \"3.6\" in /usr/local/lib/python3.7/dist-packages (from google-auth<2.0dev,>=1.21.1->google-api-core<2.0.0,>=1.0.0->opencensus->ray[default]>=1.4.0; extra == \"ray\"->modin[ray]) (4.7.2)\n",
            "Requirement already satisfied: pyasn1<0.5.0,>=0.4.6 in /usr/local/lib/python3.7/dist-packages (from pyasn1-modules>=0.2.1->google-auth<2.0dev,>=1.21.1->google-api-core<2.0.0,>=1.0.0->opencensus->ray[default]>=1.4.0; extra == \"ray\"->modin[ray]) (0.4.8)\n",
            "Building wheels for collected packages: gpustat\n",
            "  Building wheel for gpustat (setup.py) ... \u001b[?25l\u001b[?25hdone\n",
            "  Created wheel for gpustat: filename=gpustat-0.6.0-cp37-none-any.whl size=12621 sha256=b709e7a77605d03aaed7ffbf128e0c358d2a0f6c28f03c6e43e5bcdc3161884d\n",
            "  Stored in directory: /root/.cache/pip/wheels/48/b4/d5/fb5b7f1d040f2ff20687e3bad6867d63155dbde5a7c10f4293\n",
            "Successfully built gpustat\n",
            "\u001b[31mERROR: google-colab 1.0.0 has requirement pandas~=1.1.0; python_version >= \"3.0\", but you'll have pandas 1.3.0 which is incompatible.\u001b[0m\n",
            "Installing collected packages: pandas, blessings, gpustat, pydantic, multidict, yarl, async-timeout, aiohttp, py-spy, colorama, opencensus-context, opencensus, redis, hiredis, aioredis, aiohttp-cors, colorful, ray, modin\n",
            "  Found existing installation: pandas 1.1.5\n",
            "    Uninstalling pandas-1.1.5:\n",
            "      Successfully uninstalled pandas-1.1.5\n",
            "Successfully installed aiohttp-3.7.4.post0 aiohttp-cors-0.7.0 aioredis-1.3.1 async-timeout-3.0.1 blessings-1.7 colorama-0.4.4 colorful-0.5.4 gpustat-0.6.0 hiredis-2.0.0 modin-0.10.1 multidict-5.1.0 opencensus-0.7.13 opencensus-context-0.1.2 pandas-1.3.0 py-spy-0.3.7 pydantic-1.8.2 ray-1.4.1 redis-3.5.3 yarl-1.6.3\n"
          ],
          "name": "stdout"
        },
        {
          "output_type": "display_data",
          "data": {
            "application/vnd.colab-display-data+json": {
              "pip_warning": {
                "packages": [
                  "pandas"
                ]
              }
            }
          },
          "metadata": {
            "tags": []
          }
        }
      ]
    },
    {
      "cell_type": "code",
      "metadata": {
        "colab": {
          "base_uri": "https://localhost:8080/"
        },
        "id": "6LlNSxboGXBR",
        "outputId": "9d184b0d-0d2d-4c4e-9d49-3aa9671002ff"
      },
      "source": [
        "import dask.dataframe as dd\n",
        "import modin.pandas as pd\n",
        "ddf = dd.read_csv(\n",
        "    'rock_music_data.csv'\n",
        ")\n",
        "df3 = ddf.compute()\n",
        "df3 = pd.DataFrame(df3)"
      ],
      "execution_count": null,
      "outputs": [
        {
          "output_type": "stream",
          "text": [
            "UserWarning: Ray execution environment not yet initialized. Initializing...\n",
            "To remove this warning, run the following python code before doing dataframe operations:\n",
            "\n",
            "    import ray\n",
            "    ray.init()\n",
            "\n",
            "UserWarning: The size of /dev/shm is too small (6308233216 bytes). The required size at least half of RAM (6812348416 bytes). Please, delete files in /dev/shm or increase size of /dev/shm with --shm-size in Docker. Also, you can set the required memory size for each Ray worker in bytes to MODIN_MEMORY environment variable.\n",
            "UserWarning: Distributing <class 'pandas.core.frame.DataFrame'> object. This may take some time.\n"
          ],
          "name": "stderr"
        }
      ]
    },
    {
      "cell_type": "markdown",
      "metadata": {
        "id": "7ttHN8ywHQ7p"
      },
      "source": [
        "**PREPROCESSING**"
      ]
    },
    {
      "cell_type": "code",
      "metadata": {
        "colab": {
          "base_uri": "https://localhost:8080/"
        },
        "id": "72KTlyVPHgol",
        "outputId": "cdff280e-3dcf-4289-b96e-860cde83cc90"
      },
      "source": [
        "numberofrows_1, numberofcolumns_1 = df.shape\n",
        "print(\"There are {} rows and {} columns\".format(numberofrows_1, numberofcolumns_1)+\" in our Rock Music Dataset.\")"
      ],
      "execution_count": null,
      "outputs": [
        {
          "output_type": "stream",
          "text": [
            "There are 8747 rows and 22 columns in our Rock Music Dataset.\n"
          ],
          "name": "stdout"
        }
      ]
    },
    {
      "cell_type": "code",
      "metadata": {
        "id": "qGapS18HINxn"
      },
      "source": [
        "df.rename(columns={\"Track Name\":\"track_name\"},inplace=True)"
      ],
      "execution_count": null,
      "outputs": []
    },
    {
      "cell_type": "code",
      "metadata": {
        "colab": {
          "base_uri": "https://localhost:8080/"
        },
        "id": "lt2O0iSPHy6A",
        "outputId": "5c830ecc-0ac9-4916-d9c5-821fec5c195e"
      },
      "source": [
        "len(np.unique(df.id))\n"
      ],
      "execution_count": null,
      "outputs": [
        {
          "output_type": "execute_result",
          "data": {
            "text/plain": [
              "6745"
            ]
          },
          "metadata": {
            "tags": []
          },
          "execution_count": 6
        }
      ]
    },
    {
      "cell_type": "code",
      "metadata": {
        "colab": {
          "base_uri": "https://localhost:8080/",
          "height": 555
        },
        "id": "BJogaxO2KMAK",
        "outputId": "e3801a85-f31f-434e-966c-852a39eccd11"
      },
      "source": [
        "df.drop_duplicates(subset=\"id\", keep='first', inplace=True)\n",
        "df.head()"
      ],
      "execution_count": null,
      "outputs": [
        {
          "output_type": "execute_result",
          "data": {
            "text/html": [
              "<div>\n",
              "<style scoped>\n",
              "    .dataframe tbody tr th:only-of-type {\n",
              "        vertical-align: middle;\n",
              "    }\n",
              "\n",
              "    .dataframe tbody tr th {\n",
              "        vertical-align: top;\n",
              "    }\n",
              "\n",
              "    .dataframe thead th {\n",
              "        text-align: right;\n",
              "    }\n",
              "</style>\n",
              "<table border=\"1\" class=\"dataframe\">\n",
              "  <thead>\n",
              "    <tr style=\"text-align: right;\">\n",
              "      <th></th>\n",
              "      <th>Artist Name</th>\n",
              "      <th>track_name</th>\n",
              "      <th>Popularity</th>\n",
              "      <th>Genres</th>\n",
              "      <th>Playlist</th>\n",
              "      <th>danceability</th>\n",
              "      <th>energy</th>\n",
              "      <th>key</th>\n",
              "      <th>loudness</th>\n",
              "      <th>mode</th>\n",
              "      <th>speechiness</th>\n",
              "      <th>acousticness</th>\n",
              "      <th>instrumentalness</th>\n",
              "      <th>liveness</th>\n",
              "      <th>valence</th>\n",
              "      <th>tempo</th>\n",
              "      <th>id</th>\n",
              "      <th>uri</th>\n",
              "      <th>track_href</th>\n",
              "      <th>analysis_url</th>\n",
              "      <th>duration_ms</th>\n",
              "      <th>time_signature</th>\n",
              "    </tr>\n",
              "  </thead>\n",
              "  <tbody>\n",
              "    <tr>\n",
              "      <th>0</th>\n",
              "      <td>God Street Wine</td>\n",
              "      <td>Nightingale</td>\n",
              "      <td>5</td>\n",
              "      <td>['jam band']</td>\n",
              "      <td>The Lot</td>\n",
              "      <td>0.732</td>\n",
              "      <td>0.710</td>\n",
              "      <td>10</td>\n",
              "      <td>-10.429</td>\n",
              "      <td>1</td>\n",
              "      <td>0.0473</td>\n",
              "      <td>0.12100</td>\n",
              "      <td>0.005720</td>\n",
              "      <td>0.4570</td>\n",
              "      <td>0.825</td>\n",
              "      <td>123.098</td>\n",
              "      <td>6A9mRe1Eg6jUBaiLu1ppAJ</td>\n",
              "      <td>spotify:track:6A9mRe1Eg6jUBaiLu1ppAJ</td>\n",
              "      <td>https://api.spotify.com/v1/tracks/6A9mRe1Eg6jU...</td>\n",
              "      <td>https://api.spotify.com/v1/audio-analysis/6A9m...</td>\n",
              "      <td>352839</td>\n",
              "      <td>4</td>\n",
              "    </tr>\n",
              "    <tr>\n",
              "      <th>1</th>\n",
              "      <td>cleopatrick</td>\n",
              "      <td>hometown</td>\n",
              "      <td>63</td>\n",
              "      <td>['modern alternative rock', 'modern blues rock...</td>\n",
              "      <td>Ultimate Rock Gaming</td>\n",
              "      <td>0.315</td>\n",
              "      <td>0.826</td>\n",
              "      <td>7</td>\n",
              "      <td>-4.314</td>\n",
              "      <td>0</td>\n",
              "      <td>0.0636</td>\n",
              "      <td>0.00064</td>\n",
              "      <td>0.000687</td>\n",
              "      <td>0.0703</td>\n",
              "      <td>0.359</td>\n",
              "      <td>139.161</td>\n",
              "      <td>6p8DGrcAUBuLUgDIKcUn0P</td>\n",
              "      <td>spotify:track:6p8DGrcAUBuLUgDIKcUn0P</td>\n",
              "      <td>https://api.spotify.com/v1/tracks/6p8DGrcAUBuL...</td>\n",
              "      <td>https://api.spotify.com/v1/audio-analysis/6p8D...</td>\n",
              "      <td>256072</td>\n",
              "      <td>4</td>\n",
              "    </tr>\n",
              "    <tr>\n",
              "      <th>2</th>\n",
              "      <td>grandson</td>\n",
              "      <td>In Over My Head</td>\n",
              "      <td>60</td>\n",
              "      <td>['modern alternative rock', 'modern rock', 'ro...</td>\n",
              "      <td>Alternative Beats</td>\n",
              "      <td>0.582</td>\n",
              "      <td>0.817</td>\n",
              "      <td>0</td>\n",
              "      <td>-6.475</td>\n",
              "      <td>1</td>\n",
              "      <td>0.0399</td>\n",
              "      <td>0.00170</td>\n",
              "      <td>0.015800</td>\n",
              "      <td>0.5750</td>\n",
              "      <td>0.622</td>\n",
              "      <td>155.124</td>\n",
              "      <td>3r0mb1tzAcCNoA8YRXuIhZ</td>\n",
              "      <td>spotify:track:3r0mb1tzAcCNoA8YRXuIhZ</td>\n",
              "      <td>https://api.spotify.com/v1/tracks/3r0mb1tzAcCN...</td>\n",
              "      <td>https://api.spotify.com/v1/audio-analysis/3r0m...</td>\n",
              "      <td>198366</td>\n",
              "      <td>4</td>\n",
              "    </tr>\n",
              "    <tr>\n",
              "      <th>3</th>\n",
              "      <td>Counting Crows</td>\n",
              "      <td>Bobby and the Rat-Kings</td>\n",
              "      <td>0</td>\n",
              "      <td>['alternative rock', 'neo mellow', 'pop rock',...</td>\n",
              "      <td>All New Rock</td>\n",
              "      <td>0.470</td>\n",
              "      <td>0.881</td>\n",
              "      <td>5</td>\n",
              "      <td>-4.529</td>\n",
              "      <td>1</td>\n",
              "      <td>0.1330</td>\n",
              "      <td>0.31900</td>\n",
              "      <td>0.000000</td>\n",
              "      <td>0.0856</td>\n",
              "      <td>0.422</td>\n",
              "      <td>141.837</td>\n",
              "      <td>4g3abvA9DjKbjAoRDHWRsx</td>\n",
              "      <td>spotify:track:4g3abvA9DjKbjAoRDHWRsx</td>\n",
              "      <td>https://api.spotify.com/v1/tracks/4g3abvA9DjKb...</td>\n",
              "      <td>https://api.spotify.com/v1/audio-analysis/4g3a...</td>\n",
              "      <td>324867</td>\n",
              "      <td>4</td>\n",
              "    </tr>\n",
              "    <tr>\n",
              "      <th>4</th>\n",
              "      <td>Led Zeppelin</td>\n",
              "      <td>Black Dog - Remaster</td>\n",
              "      <td>72</td>\n",
              "      <td>['album rock', 'classic rock', 'hard rock', 'r...</td>\n",
              "      <td>70s Rock Anthems</td>\n",
              "      <td>0.437</td>\n",
              "      <td>0.864</td>\n",
              "      <td>4</td>\n",
              "      <td>-7.842</td>\n",
              "      <td>0</td>\n",
              "      <td>0.0904</td>\n",
              "      <td>0.39600</td>\n",
              "      <td>0.031400</td>\n",
              "      <td>0.2420</td>\n",
              "      <td>0.749</td>\n",
              "      <td>81.394</td>\n",
              "      <td>3qT4bUD1MaWpGrTwcvguhb</td>\n",
              "      <td>spotify:track:3qT4bUD1MaWpGrTwcvguhb</td>\n",
              "      <td>https://api.spotify.com/v1/tracks/3qT4bUD1MaWp...</td>\n",
              "      <td>https://api.spotify.com/v1/audio-analysis/3qT4...</td>\n",
              "      <td>295387</td>\n",
              "      <td>4</td>\n",
              "    </tr>\n",
              "  </tbody>\n",
              "</table>\n",
              "</div>"
            ],
            "text/plain": [
              "       Artist Name               track_name  ...  duration_ms time_signature\n",
              "0  God Street Wine              Nightingale  ...       352839              4\n",
              "1      cleopatrick                 hometown  ...       256072              4\n",
              "2         grandson          In Over My Head  ...       198366              4\n",
              "3   Counting Crows  Bobby and the Rat-Kings  ...       324867              4\n",
              "4     Led Zeppelin     Black Dog - Remaster  ...       295387              4\n",
              "\n",
              "[5 rows x 22 columns]"
            ]
          },
          "metadata": {
            "tags": []
          },
          "execution_count": 6
        }
      ]
    },
    {
      "cell_type": "code",
      "metadata": {
        "colab": {
          "base_uri": "https://localhost:8080/"
        },
        "id": "gDuOvErDKhnZ",
        "outputId": "592f3ab9-656c-4dc4-d078-c9a04b0f80e9"
      },
      "source": [
        "df.shape"
      ],
      "execution_count": null,
      "outputs": [
        {
          "output_type": "execute_result",
          "data": {
            "text/plain": [
              "(6745, 22)"
            ]
          },
          "metadata": {
            "tags": []
          },
          "execution_count": 37
        }
      ]
    },
    {
      "cell_type": "code",
      "metadata": {
        "colab": {
          "base_uri": "https://localhost:8080/"
        },
        "id": "trW1_RyVIBq3",
        "outputId": "aa0821d5-f3da-4b97-e528-f1fd7f5da04b"
      },
      "source": [
        "df.isnull().sum().sum()"
      ],
      "execution_count": null,
      "outputs": [
        {
          "output_type": "execute_result",
          "data": {
            "text/plain": [
              "0"
            ]
          },
          "metadata": {
            "tags": []
          },
          "execution_count": 11
        }
      ]
    },
    {
      "cell_type": "code",
      "metadata": {
        "colab": {
          "base_uri": "https://localhost:8080/",
          "height": 35
        },
        "id": "r8Gj6H5eKm1g",
        "outputId": "024eb339-e2f5-4998-9216-63c05a6fc74e"
      },
      "source": [
        "anyduplicates=df.duplicated([\"id\"])\n",
        "howmanydups=sum(anyduplicates)\n",
        "format(howmanydups)"
      ],
      "execution_count": null,
      "outputs": [
        {
          "output_type": "execute_result",
          "data": {
            "application/vnd.google.colaboratory.intrinsic+json": {
              "type": "string"
            },
            "text/plain": [
              "'0'"
            ]
          },
          "metadata": {
            "tags": []
          },
          "execution_count": 39
        }
      ]
    },
    {
      "cell_type": "code",
      "metadata": {
        "colab": {
          "base_uri": "https://localhost:8080/"
        },
        "id": "YMVji8O8Kt6o",
        "outputId": "5dfa6264-5f96-4354-a608-ced8ddafa503"
      },
      "source": [
        "print('\\nNumber of missing values by columns :') \n",
        "df.isnull().sum()"
      ],
      "execution_count": null,
      "outputs": [
        {
          "output_type": "stream",
          "text": [
            "\n",
            "Number of missing values by columns :\n"
          ],
          "name": "stdout"
        },
        {
          "output_type": "execute_result",
          "data": {
            "text/plain": [
              "Artist Name         0\n",
              "track_name          0\n",
              "Popularity          0\n",
              "Genres              0\n",
              "Playlist            0\n",
              "danceability        0\n",
              "energy              0\n",
              "key                 0\n",
              "loudness            0\n",
              "mode                0\n",
              "speechiness         0\n",
              "acousticness        0\n",
              "instrumentalness    0\n",
              "liveness            0\n",
              "valence             0\n",
              "tempo               0\n",
              "id                  0\n",
              "uri                 0\n",
              "track_href          0\n",
              "analysis_url        0\n",
              "duration_ms         0\n",
              "time_signature      0\n",
              "dtype: int64"
            ]
          },
          "metadata": {
            "tags": []
          },
          "execution_count": 43
        }
      ]
    },
    {
      "cell_type": "code",
      "metadata": {
        "colab": {
          "base_uri": "https://localhost:8080/",
          "height": 263
        },
        "id": "BaMFUpTkMVBU",
        "outputId": "44cb4349-fef6-4fd1-b183-f629a8c06402"
      },
      "source": [
        "df.head(2)"
      ],
      "execution_count": null,
      "outputs": [
        {
          "output_type": "execute_result",
          "data": {
            "text/html": [
              "<div>\n",
              "<style scoped>\n",
              "    .dataframe tbody tr th:only-of-type {\n",
              "        vertical-align: middle;\n",
              "    }\n",
              "\n",
              "    .dataframe tbody tr th {\n",
              "        vertical-align: top;\n",
              "    }\n",
              "\n",
              "    .dataframe thead th {\n",
              "        text-align: right;\n",
              "    }\n",
              "</style>\n",
              "<table border=\"1\" class=\"dataframe\">\n",
              "  <thead>\n",
              "    <tr style=\"text-align: right;\">\n",
              "      <th></th>\n",
              "      <th>Artist Name</th>\n",
              "      <th>track_name</th>\n",
              "      <th>Popularity</th>\n",
              "      <th>Genres</th>\n",
              "      <th>Playlist</th>\n",
              "      <th>danceability</th>\n",
              "      <th>energy</th>\n",
              "      <th>key</th>\n",
              "      <th>loudness</th>\n",
              "      <th>mode</th>\n",
              "      <th>speechiness</th>\n",
              "      <th>acousticness</th>\n",
              "      <th>instrumentalness</th>\n",
              "      <th>liveness</th>\n",
              "      <th>valence</th>\n",
              "      <th>tempo</th>\n",
              "      <th>id</th>\n",
              "      <th>uri</th>\n",
              "      <th>track_href</th>\n",
              "      <th>analysis_url</th>\n",
              "      <th>duration_ms</th>\n",
              "      <th>time_signature</th>\n",
              "    </tr>\n",
              "  </thead>\n",
              "  <tbody>\n",
              "    <tr>\n",
              "      <th>0</th>\n",
              "      <td>God Street Wine</td>\n",
              "      <td>Nightingale</td>\n",
              "      <td>5</td>\n",
              "      <td>['jam band']</td>\n",
              "      <td>The Lot</td>\n",
              "      <td>0.732</td>\n",
              "      <td>0.710</td>\n",
              "      <td>10</td>\n",
              "      <td>-10.429</td>\n",
              "      <td>1</td>\n",
              "      <td>0.0473</td>\n",
              "      <td>0.12100</td>\n",
              "      <td>0.005720</td>\n",
              "      <td>0.4570</td>\n",
              "      <td>0.825</td>\n",
              "      <td>123.098</td>\n",
              "      <td>6A9mRe1Eg6jUBaiLu1ppAJ</td>\n",
              "      <td>spotify:track:6A9mRe1Eg6jUBaiLu1ppAJ</td>\n",
              "      <td>https://api.spotify.com/v1/tracks/6A9mRe1Eg6jU...</td>\n",
              "      <td>https://api.spotify.com/v1/audio-analysis/6A9m...</td>\n",
              "      <td>352839</td>\n",
              "      <td>4</td>\n",
              "    </tr>\n",
              "    <tr>\n",
              "      <th>1</th>\n",
              "      <td>cleopatrick</td>\n",
              "      <td>hometown</td>\n",
              "      <td>63</td>\n",
              "      <td>['modern alternative rock', 'modern blues rock...</td>\n",
              "      <td>Ultimate Rock Gaming</td>\n",
              "      <td>0.315</td>\n",
              "      <td>0.826</td>\n",
              "      <td>7</td>\n",
              "      <td>-4.314</td>\n",
              "      <td>0</td>\n",
              "      <td>0.0636</td>\n",
              "      <td>0.00064</td>\n",
              "      <td>0.000687</td>\n",
              "      <td>0.0703</td>\n",
              "      <td>0.359</td>\n",
              "      <td>139.161</td>\n",
              "      <td>6p8DGrcAUBuLUgDIKcUn0P</td>\n",
              "      <td>spotify:track:6p8DGrcAUBuLUgDIKcUn0P</td>\n",
              "      <td>https://api.spotify.com/v1/tracks/6p8DGrcAUBuL...</td>\n",
              "      <td>https://api.spotify.com/v1/audio-analysis/6p8D...</td>\n",
              "      <td>256072</td>\n",
              "      <td>4</td>\n",
              "    </tr>\n",
              "  </tbody>\n",
              "</table>\n",
              "</div>"
            ],
            "text/plain": [
              "       Artist Name   track_name  ...  duration_ms time_signature\n",
              "0  God Street Wine  Nightingale  ...       352839              4\n",
              "1      cleopatrick     hometown  ...       256072              4\n",
              "\n",
              "[2 rows x 22 columns]"
            ]
          },
          "metadata": {
            "tags": []
          },
          "execution_count": 47
        }
      ]
    },
    {
      "cell_type": "code",
      "metadata": {
        "colab": {
          "base_uri": "https://localhost:8080/"
        },
        "id": "2zpsYko7M6Md",
        "outputId": "ba263eac-4804-455a-8fe5-9a4467a6f457"
      },
      "source": [
        "df.groupby('Popularity').tempo.mean()"
      ],
      "execution_count": null,
      "outputs": [
        {
          "output_type": "execute_result",
          "data": {
            "text/plain": [
              "Popularity\n",
              "0     128.514919\n",
              "1     120.751615\n",
              "2     121.270375\n",
              "3     135.359462\n",
              "4     133.418444\n",
              "         ...    \n",
              "86    125.734000\n",
              "87    131.295667\n",
              "88     94.009000\n",
              "91    168.560000\n",
              "93    129.650000\n",
              "Name: tempo, Length: 91, dtype: float64"
            ]
          },
          "metadata": {
            "tags": []
          },
          "execution_count": 50
        }
      ]
    },
    {
      "cell_type": "code",
      "metadata": {
        "colab": {
          "base_uri": "https://localhost:8080/"
        },
        "id": "hOmPHs5hPX4K",
        "outputId": "72cab5ef-bcf2-4277-ed5c-d38c4b4ef19d"
      },
      "source": [
        "df.columns = df.columns.str.replace('[^\\w]','_',regex=True)\n",
        "df.columns"
      ],
      "execution_count": null,
      "outputs": [
        {
          "output_type": "execute_result",
          "data": {
            "text/plain": [
              "Index(['Artist_Name', 'track_name', 'Popularity', 'Genres', 'Playlist',\n",
              "       'danceability', 'energy', 'key', 'loudness', 'mode', 'speechiness',\n",
              "       'acousticness', 'instrumentalness', 'liveness', 'valence', 'tempo',\n",
              "       'id', 'uri', 'track_href', 'analysis_url', 'duration_ms',\n",
              "       'time_signature'],\n",
              "      dtype='object')"
            ]
          },
          "metadata": {
            "tags": []
          },
          "execution_count": 7
        }
      ]
    },
    {
      "cell_type": "code",
      "metadata": {
        "id": "bncymWKrQZV5"
      },
      "source": [
        "df.columns = df.columns.str.replace(' ', '')"
      ],
      "execution_count": null,
      "outputs": []
    },
    {
      "cell_type": "code",
      "metadata": {
        "colab": {
          "base_uri": "https://localhost:8080/",
          "height": 355
        },
        "id": "NGm52b38NiA3",
        "outputId": "c0c8184d-6df6-4812-ea07-113d4c143a14"
      },
      "source": [
        "top10_tracks = df.sort_values(\"Popularity\", ascending = False) \n",
        "top10_tracks[['track_name', \"Popularity\"]][0:10] "
      ],
      "execution_count": null,
      "outputs": [
        {
          "output_type": "execute_result",
          "data": {
            "text/html": [
              "<div>\n",
              "<style scoped>\n",
              "    .dataframe tbody tr th:only-of-type {\n",
              "        vertical-align: middle;\n",
              "    }\n",
              "\n",
              "    .dataframe tbody tr th {\n",
              "        vertical-align: top;\n",
              "    }\n",
              "\n",
              "    .dataframe thead th {\n",
              "        text-align: right;\n",
              "    }\n",
              "</style>\n",
              "<table border=\"1\" class=\"dataframe\">\n",
              "  <thead>\n",
              "    <tr style=\"text-align: right;\">\n",
              "      <th></th>\n",
              "      <th>track_name</th>\n",
              "      <th>Popularity</th>\n",
              "    </tr>\n",
              "  </thead>\n",
              "  <tbody>\n",
              "    <tr>\n",
              "      <th>3229</th>\n",
              "      <td>Your Power</td>\n",
              "      <td>93</td>\n",
              "    </tr>\n",
              "    <tr>\n",
              "      <th>4796</th>\n",
              "      <td>good 4 u</td>\n",
              "      <td>91</td>\n",
              "    </tr>\n",
              "    <tr>\n",
              "      <th>4284</th>\n",
              "      <td>Therefore I Am</td>\n",
              "      <td>88</td>\n",
              "    </tr>\n",
              "    <tr>\n",
              "      <th>993</th>\n",
              "      <td>Follow You</td>\n",
              "      <td>87</td>\n",
              "    </tr>\n",
              "    <tr>\n",
              "      <th>5542</th>\n",
              "      <td>Believer</td>\n",
              "      <td>87</td>\n",
              "    </tr>\n",
              "    <tr>\n",
              "      <th>7686</th>\n",
              "      <td>death bed (coffee for your head)</td>\n",
              "      <td>87</td>\n",
              "    </tr>\n",
              "    <tr>\n",
              "      <th>6374</th>\n",
              "      <td>Slumber Party (feat. Princess Nokia)</td>\n",
              "      <td>86</td>\n",
              "    </tr>\n",
              "    <tr>\n",
              "      <th>6098</th>\n",
              "      <td>Freaks</td>\n",
              "      <td>86</td>\n",
              "    </tr>\n",
              "    <tr>\n",
              "      <th>1186</th>\n",
              "      <td>WITHOUT YOU (with Miley Cyrus)</td>\n",
              "      <td>86</td>\n",
              "    </tr>\n",
              "    <tr>\n",
              "      <th>1343</th>\n",
              "      <td>Do I Wanna Know?</td>\n",
              "      <td>85</td>\n",
              "    </tr>\n",
              "  </tbody>\n",
              "</table>\n",
              "</div>"
            ],
            "text/plain": [
              "                                track_name  Popularity\n",
              "3229                            Your Power          93\n",
              "4796                              good 4 u          91\n",
              "4284                        Therefore I Am          88\n",
              "993                             Follow You          87\n",
              "5542                              Believer          87\n",
              "7686      death bed (coffee for your head)          87\n",
              "6374  Slumber Party (feat. Princess Nokia)          86\n",
              "6098                                Freaks          86\n",
              "1186        WITHOUT YOU (with Miley Cyrus)          86\n",
              "1343                      Do I Wanna Know?          85"
            ]
          },
          "metadata": {
            "tags": []
          },
          "execution_count": 9
        }
      ]
    },
    {
      "cell_type": "markdown",
      "metadata": {
        "id": "aBiferixQnwO"
      },
      "source": [
        "**YAML** **FILE** **CREATION**\n",
        "\n",
        "---\n",
        "\n",
        "\n",
        "\n",
        "---\n",
        "\n"
      ]
    },
    {
      "cell_type": "code",
      "metadata": {
        "colab": {
          "base_uri": "https://localhost:8080/"
        },
        "id": "wo6RkiMmWbST",
        "outputId": "f8e85eee-d9e6-4028-960b-2eafc9cbb02b"
      },
      "source": [
        "%%writefile testutility.py\n",
        "import logging\n",
        "import os\n",
        "import subprocess\n",
        "import yaml\n",
        "import pandas as pd\n",
        "import datetime \n",
        "import gc\n",
        "import re\n",
        "\n",
        "\n",
        "################\n",
        "# File Reading #\n",
        "################\n",
        "\n",
        "def read_config_file(filepath):\n",
        "    with open(filepath, 'r') as stream:\n",
        "        try:\n",
        "            return yaml.safe_load(stream)\n",
        "        except yaml.YAMLError as exc:\n",
        "            logging.error(exc)\n",
        "\n",
        "\n",
        "def replacer(string, char):\n",
        "    pattern = char + '{2,}'\n",
        "    string = re.sub(pattern, char, string) \n",
        "    return string\n",
        "\n",
        "def col_header_val(df,table_config):\n",
        "    '''\n",
        "    replace whitespaces in the column\n",
        "    and standardized column names\n",
        "    '''\n",
        "    df.columns = df.columns.str.lower()\n",
        "    df.columns = df.columns.str.replace('[^\\w]','_',regex=True)\n",
        "    df.columns = list(map(lambda x: x.strip('_'), list(df.columns)))\n",
        "    df.columns = list(map(lambda x: replacer(x,'_'), list(df.columns)))\n",
        "    expected_col = list(map(lambda x: x.lower(),  table_config['columns']))\n",
        "    expected_col.sort()\n",
        "    df.columns =list(map(lambda x: x.lower(), list(df.columns)))\n",
        "    df = df.reindex(sorted(df.columns), axis=1)\n",
        "    if len(df.columns) == len(expected_col) and list(expected_col)  == list(df.columns):\n",
        "        print(\"column name and column length validation passed\")\n",
        "        return 1\n",
        "    else:\n",
        "        print(\"column name and column length validation failed\")\n",
        "        mismatched_columns_file = list(set(df.columns).difference(expected_col))\n",
        "        print(\"Following File columns are not in the YAML file\",mismatched_columns_file)\n",
        "        missing_YAML_file = list(set(expected_col).difference(df.columns))\n",
        "        print(\"Following YAML columns are not in the file uploaded\",missing_YAML_file)\n",
        "        logging.info(f'df columns: {df.columns}')\n",
        "        logging.info(f'expected columns: {expected_col}')\n",
        "        return 0"
      ],
      "execution_count": null,
      "outputs": [
        {
          "output_type": "stream",
          "text": [
            "Writing testutility.py\n"
          ],
          "name": "stdout"
        }
      ]
    },
    {
      "cell_type": "code",
      "metadata": {
        "colab": {
          "base_uri": "https://localhost:8080/"
        },
        "id": "qriIkKIzR-VB",
        "outputId": "022890b4-c6e9-4aa5-d9fb-2c8f56c0e6f8"
      },
      "source": [
        "%%writefile yaml_file.yaml\n",
        "#WRITE YAML FILE\n",
        "file_type: csv\n",
        "file_name: rock_music_data\n",
        "dataset_name: df\n",
        "inbound_delimiter: \",\"\n",
        "outbound_delimiter: \"|\"\n",
        "skip_leading_rows: 1\n",
        "columns: \n",
        "    - Artist_Name\n",
        "    - track_name\n",
        "    - Popularity\n",
        "    - Genres\n",
        "    - Playlist\n",
        "    - danceability\n",
        "    - energy\n",
        "    - key\n",
        "    - loudness\n",
        "    - mode\n",
        "    - speechiness\n",
        "    - id\n",
        "    - uri\n",
        "    - track_href\n",
        "    - analysis_url\n",
        "    - duration_ms\n",
        "    - time_signature\n",
        "    - instrumentalness\n",
        "    - acousticness\n",
        "    - tempo\n",
        "    - valence\n",
        "    - liveness\n"
      ],
      "execution_count": 40,
      "outputs": [
        {
          "output_type": "stream",
          "text": [
            "Overwriting yaml_file.yaml\n"
          ],
          "name": "stdout"
        }
      ]
    },
    {
      "cell_type": "code",
      "metadata": {
        "id": "cS2iQOmNWtTA"
      },
      "source": [
        "import testutility as util\n",
        "config_data = util.read_config_file(\"yaml_file.yaml\")"
      ],
      "execution_count": 41,
      "outputs": []
    },
    {
      "cell_type": "code",
      "metadata": {
        "colab": {
          "base_uri": "https://localhost:8080/"
        },
        "id": "Hk2NhByTg3AP",
        "outputId": "e78e793f-6dc4-499a-bcda-422d64a53b6f"
      },
      "source": [
        "config_data"
      ],
      "execution_count": 31,
      "outputs": [
        {
          "output_type": "execute_result",
          "data": {
            "text/plain": [
              "{'columns': ['Artist_Name',\n",
              "  'track_name',\n",
              "  'Popularity',\n",
              "  'Genres',\n",
              "  'Playlist',\n",
              "  'danceability',\n",
              "  'energy',\n",
              "  'key',\n",
              "  'loudness',\n",
              "  'mode',\n",
              "  'speechiness',\n",
              "  'id',\n",
              "  'uri',\n",
              "  'track_href',\n",
              "  'analysis_url',\n",
              "  'duration_ms',\n",
              "  'time_signature',\n",
              "  'instrumentalness',\n",
              "  'acousticness',\n",
              "  'tempo',\n",
              "  'valence',\n",
              "  'liveness'],\n",
              " 'dataset_name': 'df',\n",
              " 'file_name': 'rock_music_data',\n",
              " 'file_type': 'csv',\n",
              " 'inbound_delimiter': ',',\n",
              " 'outbound_delimiter': '|',\n",
              " 'skip_leading_rows': 1}"
            ]
          },
          "metadata": {
            "tags": []
          },
          "execution_count": 31
        }
      ]
    },
    {
      "cell_type": "code",
      "metadata": {
        "colab": {
          "base_uri": "https://localhost:8080/",
          "height": 35
        },
        "id": "R2j7gJwig-2s",
        "outputId": "21e134ec-6ec0-4525-c63f-e8b1eefd5c7f"
      },
      "source": [
        "config_data['inbound_delimiter']"
      ],
      "execution_count": 32,
      "outputs": [
        {
          "output_type": "execute_result",
          "data": {
            "application/vnd.google.colaboratory.intrinsic+json": {
              "type": "string"
            },
            "text/plain": [
              "','"
            ]
          },
          "metadata": {
            "tags": []
          },
          "execution_count": 32
        }
      ]
    },
    {
      "cell_type": "markdown",
      "metadata": {
        "id": "0ro5U7lKhPe7"
      },
      "source": [
        "**READING** **FILE** **WITH** **YAML**"
      ]
    },
    {
      "cell_type": "code",
      "metadata": {
        "colab": {
          "base_uri": "https://localhost:8080/",
          "height": 591
        },
        "id": "x3vCY5U-hEH9",
        "outputId": "b6ca0aeb-265b-4d3a-b36e-db7e717b452d"
      },
      "source": [
        "file_type = config_data['file_type']\n",
        "source_file = \"./\" + config_data['file_name'] + f'.{file_type}'\n",
        "#print(\"\",source_file)\n",
        "df = pd.read_csv(source_file,config_data['inbound_delimiter'])\n",
        "df.head()"
      ],
      "execution_count": 33,
      "outputs": [
        {
          "output_type": "stream",
          "text": [
            "/usr/local/lib/python3.7/dist-packages/IPython/core/interactiveshell.py:2882: FutureWarning: In a future version of pandas all arguments of read_csv except for the argument 'filepath_or_buffer' will be keyword-only\n",
            "  exec(code_obj, self.user_global_ns, self.user_ns)\n"
          ],
          "name": "stderr"
        },
        {
          "output_type": "execute_result",
          "data": {
            "text/html": [
              "<div>\n",
              "<style scoped>\n",
              "    .dataframe tbody tr th:only-of-type {\n",
              "        vertical-align: middle;\n",
              "    }\n",
              "\n",
              "    .dataframe tbody tr th {\n",
              "        vertical-align: top;\n",
              "    }\n",
              "\n",
              "    .dataframe thead th {\n",
              "        text-align: right;\n",
              "    }\n",
              "</style>\n",
              "<table border=\"1\" class=\"dataframe\">\n",
              "  <thead>\n",
              "    <tr style=\"text-align: right;\">\n",
              "      <th></th>\n",
              "      <th>Artist Name</th>\n",
              "      <th>Track Name</th>\n",
              "      <th>Popularity</th>\n",
              "      <th>Genres</th>\n",
              "      <th>Playlist</th>\n",
              "      <th>danceability</th>\n",
              "      <th>energy</th>\n",
              "      <th>key</th>\n",
              "      <th>loudness</th>\n",
              "      <th>mode</th>\n",
              "      <th>speechiness</th>\n",
              "      <th>acousticness</th>\n",
              "      <th>instrumentalness</th>\n",
              "      <th>liveness</th>\n",
              "      <th>valence</th>\n",
              "      <th>tempo</th>\n",
              "      <th>id</th>\n",
              "      <th>uri</th>\n",
              "      <th>track_href</th>\n",
              "      <th>analysis_url</th>\n",
              "      <th>duration_ms</th>\n",
              "      <th>time_signature</th>\n",
              "    </tr>\n",
              "  </thead>\n",
              "  <tbody>\n",
              "    <tr>\n",
              "      <th>0</th>\n",
              "      <td>God Street Wine</td>\n",
              "      <td>Nightingale</td>\n",
              "      <td>5</td>\n",
              "      <td>['jam band']</td>\n",
              "      <td>The Lot</td>\n",
              "      <td>0.732</td>\n",
              "      <td>0.710</td>\n",
              "      <td>10</td>\n",
              "      <td>-10.429</td>\n",
              "      <td>1</td>\n",
              "      <td>0.0473</td>\n",
              "      <td>0.12100</td>\n",
              "      <td>0.005720</td>\n",
              "      <td>0.4570</td>\n",
              "      <td>0.825</td>\n",
              "      <td>123.098</td>\n",
              "      <td>6A9mRe1Eg6jUBaiLu1ppAJ</td>\n",
              "      <td>spotify:track:6A9mRe1Eg6jUBaiLu1ppAJ</td>\n",
              "      <td>https://api.spotify.com/v1/tracks/6A9mRe1Eg6jU...</td>\n",
              "      <td>https://api.spotify.com/v1/audio-analysis/6A9m...</td>\n",
              "      <td>352839</td>\n",
              "      <td>4</td>\n",
              "    </tr>\n",
              "    <tr>\n",
              "      <th>1</th>\n",
              "      <td>cleopatrick</td>\n",
              "      <td>hometown</td>\n",
              "      <td>63</td>\n",
              "      <td>['modern alternative rock', 'modern blues rock...</td>\n",
              "      <td>Ultimate Rock Gaming</td>\n",
              "      <td>0.315</td>\n",
              "      <td>0.826</td>\n",
              "      <td>7</td>\n",
              "      <td>-4.314</td>\n",
              "      <td>0</td>\n",
              "      <td>0.0636</td>\n",
              "      <td>0.00064</td>\n",
              "      <td>0.000687</td>\n",
              "      <td>0.0703</td>\n",
              "      <td>0.359</td>\n",
              "      <td>139.161</td>\n",
              "      <td>6p8DGrcAUBuLUgDIKcUn0P</td>\n",
              "      <td>spotify:track:6p8DGrcAUBuLUgDIKcUn0P</td>\n",
              "      <td>https://api.spotify.com/v1/tracks/6p8DGrcAUBuL...</td>\n",
              "      <td>https://api.spotify.com/v1/audio-analysis/6p8D...</td>\n",
              "      <td>256072</td>\n",
              "      <td>4</td>\n",
              "    </tr>\n",
              "    <tr>\n",
              "      <th>2</th>\n",
              "      <td>grandson</td>\n",
              "      <td>In Over My Head</td>\n",
              "      <td>60</td>\n",
              "      <td>['modern alternative rock', 'modern rock', 'ro...</td>\n",
              "      <td>Alternative Beats</td>\n",
              "      <td>0.582</td>\n",
              "      <td>0.817</td>\n",
              "      <td>0</td>\n",
              "      <td>-6.475</td>\n",
              "      <td>1</td>\n",
              "      <td>0.0399</td>\n",
              "      <td>0.00170</td>\n",
              "      <td>0.015800</td>\n",
              "      <td>0.5750</td>\n",
              "      <td>0.622</td>\n",
              "      <td>155.124</td>\n",
              "      <td>3r0mb1tzAcCNoA8YRXuIhZ</td>\n",
              "      <td>spotify:track:3r0mb1tzAcCNoA8YRXuIhZ</td>\n",
              "      <td>https://api.spotify.com/v1/tracks/3r0mb1tzAcCN...</td>\n",
              "      <td>https://api.spotify.com/v1/audio-analysis/3r0m...</td>\n",
              "      <td>198366</td>\n",
              "      <td>4</td>\n",
              "    </tr>\n",
              "    <tr>\n",
              "      <th>3</th>\n",
              "      <td>Counting Crows</td>\n",
              "      <td>Bobby and the Rat-Kings</td>\n",
              "      <td>0</td>\n",
              "      <td>['alternative rock', 'neo mellow', 'pop rock',...</td>\n",
              "      <td>All New Rock</td>\n",
              "      <td>0.470</td>\n",
              "      <td>0.881</td>\n",
              "      <td>5</td>\n",
              "      <td>-4.529</td>\n",
              "      <td>1</td>\n",
              "      <td>0.1330</td>\n",
              "      <td>0.31900</td>\n",
              "      <td>0.000000</td>\n",
              "      <td>0.0856</td>\n",
              "      <td>0.422</td>\n",
              "      <td>141.837</td>\n",
              "      <td>4g3abvA9DjKbjAoRDHWRsx</td>\n",
              "      <td>spotify:track:4g3abvA9DjKbjAoRDHWRsx</td>\n",
              "      <td>https://api.spotify.com/v1/tracks/4g3abvA9DjKb...</td>\n",
              "      <td>https://api.spotify.com/v1/audio-analysis/4g3a...</td>\n",
              "      <td>324867</td>\n",
              "      <td>4</td>\n",
              "    </tr>\n",
              "    <tr>\n",
              "      <th>4</th>\n",
              "      <td>Led Zeppelin</td>\n",
              "      <td>Black Dog - Remaster</td>\n",
              "      <td>72</td>\n",
              "      <td>['album rock', 'classic rock', 'hard rock', 'r...</td>\n",
              "      <td>70s Rock Anthems</td>\n",
              "      <td>0.437</td>\n",
              "      <td>0.864</td>\n",
              "      <td>4</td>\n",
              "      <td>-7.842</td>\n",
              "      <td>0</td>\n",
              "      <td>0.0904</td>\n",
              "      <td>0.39600</td>\n",
              "      <td>0.031400</td>\n",
              "      <td>0.2420</td>\n",
              "      <td>0.749</td>\n",
              "      <td>81.394</td>\n",
              "      <td>3qT4bUD1MaWpGrTwcvguhb</td>\n",
              "      <td>spotify:track:3qT4bUD1MaWpGrTwcvguhb</td>\n",
              "      <td>https://api.spotify.com/v1/tracks/3qT4bUD1MaWp...</td>\n",
              "      <td>https://api.spotify.com/v1/audio-analysis/3qT4...</td>\n",
              "      <td>295387</td>\n",
              "      <td>4</td>\n",
              "    </tr>\n",
              "  </tbody>\n",
              "</table>\n",
              "</div>"
            ],
            "text/plain": [
              "       Artist Name               Track Name  ...  duration_ms time_signature\n",
              "0  God Street Wine              Nightingale  ...       352839              4\n",
              "1      cleopatrick                 hometown  ...       256072              4\n",
              "2         grandson          In Over My Head  ...       198366              4\n",
              "3   Counting Crows  Bobby and the Rat-Kings  ...       324867              4\n",
              "4     Led Zeppelin     Black Dog - Remaster  ...       295387              4\n",
              "\n",
              "[5 rows x 22 columns]"
            ]
          },
          "metadata": {
            "tags": []
          },
          "execution_count": 33
        }
      ]
    },
    {
      "cell_type": "code",
      "metadata": {
        "colab": {
          "base_uri": "https://localhost:8080/"
        },
        "id": "6b1kccm7iAEI",
        "outputId": "8391ef77-694f-424b-ea43-841428da20a5"
      },
      "source": [
        "util.col_header_val(df,config_data)"
      ],
      "execution_count": 34,
      "outputs": [
        {
          "output_type": "stream",
          "text": [
            "column name and column length validation passed\n"
          ],
          "name": "stdout"
        },
        {
          "output_type": "execute_result",
          "data": {
            "text/plain": [
              "1"
            ]
          },
          "metadata": {
            "tags": []
          },
          "execution_count": 34
        }
      ]
    },
    {
      "cell_type": "code",
      "metadata": {
        "colab": {
          "base_uri": "https://localhost:8080/"
        },
        "id": "xLLrRiRoiGJX",
        "outputId": "69a5b633-9498-4fc6-e346-02659f46b98a"
      },
      "source": [
        "print(\"columns of files are:\" ,df.columns)\n",
        "print(\"columns of YAML are:\" ,config_data['columns'])"
      ],
      "execution_count": 42,
      "outputs": [
        {
          "output_type": "stream",
          "text": [
            "columns of files are: Index(['artist_name', 'track_name', 'popularity', 'genres', 'playlist',\n",
            "       'danceability', 'energy', 'key', 'loudness', 'mode', 'speechiness',\n",
            "       'acousticness', 'instrumentalness', 'liveness', 'valence', 'tempo',\n",
            "       'id', 'uri', 'track_href', 'analysis_url', 'duration_ms',\n",
            "       'time_signature'],\n",
            "      dtype='object')\n",
            "columns of YAML are: ['Artist_Name', 'track_name', 'Popularity', 'Genres', 'Playlist', 'danceability', 'energy', 'key', 'loudness', 'mode', 'speechiness', 'id', 'uri', 'track_href', 'analysis_url', 'duration_ms', 'time_signature', 'instrumentalness', 'acousticness', 'tempo', 'valence', 'liveness']\n"
          ],
          "name": "stdout"
        }
      ]
    },
    {
      "cell_type": "markdown",
      "metadata": {
        "id": "dodV30sxo0E4"
      },
      "source": [
        "**Write the file in pipe separated text file (|) in gz format\n",
        "\n"
      ]
    },
    {
      "cell_type": "code",
      "metadata": {
        "id": "fyeW03YYlG4v"
      },
      "source": [
        "df.to_csv('df_gz.csv.gz', compression='gzip')"
      ],
      "execution_count": 44,
      "outputs": []
    },
    {
      "cell_type": "code",
      "metadata": {
        "id": "03uyTQkrlSsh"
      },
      "source": [
        "df4 = pd.read_csv(\"df_gz.csv.gz\") "
      ],
      "execution_count": 47,
      "outputs": []
    },
    {
      "cell_type": "code",
      "metadata": {
        "colab": {
          "base_uri": "https://localhost:8080/",
          "height": 538
        },
        "id": "YMs9h5Skl3SW",
        "outputId": "b1ef101e-62ce-40c0-f53e-170cb620c442"
      },
      "source": [
        "df4.head(5)"
      ],
      "execution_count": 48,
      "outputs": [
        {
          "output_type": "execute_result",
          "data": {
            "text/html": [
              "<div>\n",
              "<style scoped>\n",
              "    .dataframe tbody tr th:only-of-type {\n",
              "        vertical-align: middle;\n",
              "    }\n",
              "\n",
              "    .dataframe tbody tr th {\n",
              "        vertical-align: top;\n",
              "    }\n",
              "\n",
              "    .dataframe thead th {\n",
              "        text-align: right;\n",
              "    }\n",
              "</style>\n",
              "<table border=\"1\" class=\"dataframe\">\n",
              "  <thead>\n",
              "    <tr style=\"text-align: right;\">\n",
              "      <th></th>\n",
              "      <th>Unnamed: 0</th>\n",
              "      <th>artist_name</th>\n",
              "      <th>track_name</th>\n",
              "      <th>popularity</th>\n",
              "      <th>genres</th>\n",
              "      <th>playlist</th>\n",
              "      <th>danceability</th>\n",
              "      <th>energy</th>\n",
              "      <th>key</th>\n",
              "      <th>loudness</th>\n",
              "      <th>mode</th>\n",
              "      <th>speechiness</th>\n",
              "      <th>acousticness</th>\n",
              "      <th>instrumentalness</th>\n",
              "      <th>liveness</th>\n",
              "      <th>valence</th>\n",
              "      <th>tempo</th>\n",
              "      <th>id</th>\n",
              "      <th>uri</th>\n",
              "      <th>track_href</th>\n",
              "      <th>analysis_url</th>\n",
              "      <th>duration_ms</th>\n",
              "      <th>time_signature</th>\n",
              "    </tr>\n",
              "  </thead>\n",
              "  <tbody>\n",
              "    <tr>\n",
              "      <th>0</th>\n",
              "      <td>0</td>\n",
              "      <td>God Street Wine</td>\n",
              "      <td>Nightingale</td>\n",
              "      <td>5</td>\n",
              "      <td>['jam band']</td>\n",
              "      <td>The Lot</td>\n",
              "      <td>0.732</td>\n",
              "      <td>0.710</td>\n",
              "      <td>10</td>\n",
              "      <td>-10.429</td>\n",
              "      <td>1</td>\n",
              "      <td>0.0473</td>\n",
              "      <td>0.12100</td>\n",
              "      <td>0.005720</td>\n",
              "      <td>0.4570</td>\n",
              "      <td>0.825</td>\n",
              "      <td>123.098</td>\n",
              "      <td>6A9mRe1Eg6jUBaiLu1ppAJ</td>\n",
              "      <td>spotify:track:6A9mRe1Eg6jUBaiLu1ppAJ</td>\n",
              "      <td>https://api.spotify.com/v1/tracks/6A9mRe1Eg6jU...</td>\n",
              "      <td>https://api.spotify.com/v1/audio-analysis/6A9m...</td>\n",
              "      <td>352839</td>\n",
              "      <td>4</td>\n",
              "    </tr>\n",
              "    <tr>\n",
              "      <th>1</th>\n",
              "      <td>1</td>\n",
              "      <td>cleopatrick</td>\n",
              "      <td>hometown</td>\n",
              "      <td>63</td>\n",
              "      <td>['modern alternative rock', 'modern blues rock...</td>\n",
              "      <td>Ultimate Rock Gaming</td>\n",
              "      <td>0.315</td>\n",
              "      <td>0.826</td>\n",
              "      <td>7</td>\n",
              "      <td>-4.314</td>\n",
              "      <td>0</td>\n",
              "      <td>0.0636</td>\n",
              "      <td>0.00064</td>\n",
              "      <td>0.000687</td>\n",
              "      <td>0.0703</td>\n",
              "      <td>0.359</td>\n",
              "      <td>139.161</td>\n",
              "      <td>6p8DGrcAUBuLUgDIKcUn0P</td>\n",
              "      <td>spotify:track:6p8DGrcAUBuLUgDIKcUn0P</td>\n",
              "      <td>https://api.spotify.com/v1/tracks/6p8DGrcAUBuL...</td>\n",
              "      <td>https://api.spotify.com/v1/audio-analysis/6p8D...</td>\n",
              "      <td>256072</td>\n",
              "      <td>4</td>\n",
              "    </tr>\n",
              "    <tr>\n",
              "      <th>2</th>\n",
              "      <td>2</td>\n",
              "      <td>grandson</td>\n",
              "      <td>In Over My Head</td>\n",
              "      <td>60</td>\n",
              "      <td>['modern alternative rock', 'modern rock', 'ro...</td>\n",
              "      <td>Alternative Beats</td>\n",
              "      <td>0.582</td>\n",
              "      <td>0.817</td>\n",
              "      <td>0</td>\n",
              "      <td>-6.475</td>\n",
              "      <td>1</td>\n",
              "      <td>0.0399</td>\n",
              "      <td>0.00170</td>\n",
              "      <td>0.015800</td>\n",
              "      <td>0.5750</td>\n",
              "      <td>0.622</td>\n",
              "      <td>155.124</td>\n",
              "      <td>3r0mb1tzAcCNoA8YRXuIhZ</td>\n",
              "      <td>spotify:track:3r0mb1tzAcCNoA8YRXuIhZ</td>\n",
              "      <td>https://api.spotify.com/v1/tracks/3r0mb1tzAcCN...</td>\n",
              "      <td>https://api.spotify.com/v1/audio-analysis/3r0m...</td>\n",
              "      <td>198366</td>\n",
              "      <td>4</td>\n",
              "    </tr>\n",
              "    <tr>\n",
              "      <th>3</th>\n",
              "      <td>3</td>\n",
              "      <td>Counting Crows</td>\n",
              "      <td>Bobby and the Rat-Kings</td>\n",
              "      <td>0</td>\n",
              "      <td>['alternative rock', 'neo mellow', 'pop rock',...</td>\n",
              "      <td>All New Rock</td>\n",
              "      <td>0.470</td>\n",
              "      <td>0.881</td>\n",
              "      <td>5</td>\n",
              "      <td>-4.529</td>\n",
              "      <td>1</td>\n",
              "      <td>0.1330</td>\n",
              "      <td>0.31900</td>\n",
              "      <td>0.000000</td>\n",
              "      <td>0.0856</td>\n",
              "      <td>0.422</td>\n",
              "      <td>141.837</td>\n",
              "      <td>4g3abvA9DjKbjAoRDHWRsx</td>\n",
              "      <td>spotify:track:4g3abvA9DjKbjAoRDHWRsx</td>\n",
              "      <td>https://api.spotify.com/v1/tracks/4g3abvA9DjKb...</td>\n",
              "      <td>https://api.spotify.com/v1/audio-analysis/4g3a...</td>\n",
              "      <td>324867</td>\n",
              "      <td>4</td>\n",
              "    </tr>\n",
              "    <tr>\n",
              "      <th>4</th>\n",
              "      <td>4</td>\n",
              "      <td>Led Zeppelin</td>\n",
              "      <td>Black Dog - Remaster</td>\n",
              "      <td>72</td>\n",
              "      <td>['album rock', 'classic rock', 'hard rock', 'r...</td>\n",
              "      <td>70s Rock Anthems</td>\n",
              "      <td>0.437</td>\n",
              "      <td>0.864</td>\n",
              "      <td>4</td>\n",
              "      <td>-7.842</td>\n",
              "      <td>0</td>\n",
              "      <td>0.0904</td>\n",
              "      <td>0.39600</td>\n",
              "      <td>0.031400</td>\n",
              "      <td>0.2420</td>\n",
              "      <td>0.749</td>\n",
              "      <td>81.394</td>\n",
              "      <td>3qT4bUD1MaWpGrTwcvguhb</td>\n",
              "      <td>spotify:track:3qT4bUD1MaWpGrTwcvguhb</td>\n",
              "      <td>https://api.spotify.com/v1/tracks/3qT4bUD1MaWp...</td>\n",
              "      <td>https://api.spotify.com/v1/audio-analysis/3qT4...</td>\n",
              "      <td>295387</td>\n",
              "      <td>4</td>\n",
              "    </tr>\n",
              "  </tbody>\n",
              "</table>\n",
              "</div>"
            ],
            "text/plain": [
              "   Unnamed: 0      artist_name  ... duration_ms  time_signature\n",
              "0           0  God Street Wine  ...      352839               4\n",
              "1           1      cleopatrick  ...      256072               4\n",
              "2           2         grandson  ...      198366               4\n",
              "3           3   Counting Crows  ...      324867               4\n",
              "4           4     Led Zeppelin  ...      295387               4\n",
              "\n",
              "[5 rows x 23 columns]"
            ]
          },
          "metadata": {
            "tags": []
          },
          "execution_count": 48
        }
      ]
    },
    {
      "cell_type": "code",
      "metadata": {
        "colab": {
          "base_uri": "https://localhost:8080/"
        },
        "id": "vOLqfTlMpNO2",
        "outputId": "6defc175-7021-4f54-9edd-eb18add5b027"
      },
      "source": [
        "df4.columns"
      ],
      "execution_count": 55,
      "outputs": [
        {
          "output_type": "execute_result",
          "data": {
            "text/plain": [
              "Index(['Unnamed: 0', 'artist_name', 'track_name', 'popularity', 'genres',\n",
              "       'playlist', 'danceability', 'energy', 'key', 'loudness', 'mode',\n",
              "       'speechiness', 'acousticness', 'instrumentalness', 'liveness',\n",
              "       'valence', 'tempo', 'id', 'uri', 'track_href', 'analysis_url',\n",
              "       'duration_ms', 'time_signature'],\n",
              "      dtype='object')"
            ]
          },
          "metadata": {
            "tags": []
          },
          "execution_count": 55
        }
      ]
    },
    {
      "cell_type": "code",
      "metadata": {
        "colab": {
          "base_uri": "https://localhost:8080/"
        },
        "id": "qeCYVvqMpO-t",
        "outputId": "c9b22dee-fb23-461d-b5de-7f86a979a1a2"
      },
      "source": [
        "df4.shape"
      ],
      "execution_count": 56,
      "outputs": [
        {
          "output_type": "execute_result",
          "data": {
            "text/plain": [
              "(8747, 23)"
            ]
          },
          "metadata": {
            "tags": []
          },
          "execution_count": 56
        }
      ]
    },
    {
      "cell_type": "markdown",
      "metadata": {
        "id": "xbmGxcJvpR8X"
      },
      "source": [
        "8747 rows, 23 columns"
      ]
    },
    {
      "cell_type": "code",
      "metadata": {
        "id": "h9ooA_tkmE_G"
      },
      "source": [
        "import os\n",
        "\n",
        "#FUNCTION THAT CALCULATE TOTAL SIZE IN BYTES OF THE COMPRESSED FOLDER\n",
        "def get_size(start_path = '.'):\n",
        "    total_size = 0\n",
        "    for dirpath, dirnames, filenames in os.walk(start_path):\n",
        "        for f in filenames:\n",
        "            fp = os.path.join(dirpath, f)\n",
        "            # skip if it is symbolic link\n",
        "            if not os.path.islink(fp):\n",
        "                total_size += os.path.getsize(fp)\n",
        "\n",
        "    return total_size"
      ],
      "execution_count": 49,
      "outputs": []
    },
    {
      "cell_type": "code",
      "metadata": {
        "colab": {
          "base_uri": "https://localhost:8080/"
        },
        "id": "Sa4D1igVmTn2",
        "outputId": "7232ab4c-a9b2-45d5-ee80-a95a699fc1dd"
      },
      "source": [
        "from pathlib import Path\n",
        "Path('rock_music_data.csv').stat().st_size"
      ],
      "execution_count": 53,
      "outputs": [
        {
          "output_type": "execute_result",
          "data": {
            "text/plain": [
              "3270107"
            ]
          },
          "metadata": {
            "tags": []
          },
          "execution_count": 53
        }
      ]
    },
    {
      "cell_type": "code",
      "metadata": {
        "colab": {
          "base_uri": "https://localhost:8080/"
        },
        "id": "ZuFWoT_sm3x4",
        "outputId": "e85fa82d-54e3-4eda-a5c0-a3a5157ba2a0"
      },
      "source": [
        "from pathlib import Path\n",
        "Path('df_gz.csv.gz').stat().st_size"
      ],
      "execution_count": 54,
      "outputs": [
        {
          "output_type": "execute_result",
          "data": {
            "text/plain": [
              "955921"
            ]
          },
          "metadata": {
            "tags": []
          },
          "execution_count": 54
        }
      ]
    },
    {
      "cell_type": "markdown",
      "metadata": {
        "id": "Rh3QdoXUoFDp"
      },
      "source": [
        "The compressed version's size is much smaller than the original one.\n"
      ]
    }
  ]
}